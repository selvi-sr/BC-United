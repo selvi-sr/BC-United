{
 "cells": [
  {
   "cell_type": "code",
   "execution_count": 2,
   "metadata": {},
   "outputs": [],
   "source": [
    "import matplotlib.pyplot as plt\n",
    "import pandas as pd\n",
    "import numpy as np\n",
    "import os\n",
    "from matplotlib.ticker import StrMethodFormatter\n",
    "import seaborn as sns\n",
    "\n",
    "# for converting currency to int\n",
    "from decimal import Decimal\n",
    "from re import sub\n",
    "\n",
    "import requests\n",
    "import json\n",
    "\n",
    "# Google developer API key\n",
    "from config import gkey\n",
    "\n",
    "import gmaps\n",
    "# Access maps with unique API key\n",
    "gmaps.configure(api_key=gkey)"
   ]
  },
  {
   "cell_type": "code",
   "execution_count": null,
   "metadata": {},
   "outputs": [],
   "source": [
    "#input_file = \"data.csv\"\n",
    "input_file= os.path.join('Resources','data.csv')\n",
    "data_df = pd.read_csv(input_file)"
   ]
  },
  {
   "cell_type": "code",
   "execution_count": 4,
   "metadata": {},
   "outputs": [
    {
     "data": {
      "text/plain": [
       "18207"
      ]
     },
     "execution_count": 4,
     "metadata": {},
     "output_type": "execute_result"
    }
   ],
   "source": [
    "#total number of players\n",
    "total_players=data_df['ID'].nunique()\n",
    "total_players"
   ]
  },
  {
   "cell_type": "code",
   "execution_count": 5,
   "metadata": {},
   "outputs": [
    {
     "data": {
      "text/plain": [
       "16"
      ]
     },
     "execution_count": 5,
     "metadata": {},
     "output_type": "execute_result"
    }
   ],
   "source": [
    "#Dropping columns that are not used in the analysis and also the ones with lot of null values\n",
    "new_df=data_df.drop([ 'Release Clause','Loaned From', 'Joined'], axis='columns')\n",
    "new_df.drop(new_df.columns[26:52], axis=1, inplace=True)\n",
    "new_df.head()\n",
    "new_df['Age'].min()"
   ]
  },
  {
   "cell_type": "code",
   "execution_count": 6,
   "metadata": {},
   "outputs": [
    {
     "data": {
      "text/plain": [
       "45"
      ]
     },
     "execution_count": 6,
     "metadata": {},
     "output_type": "execute_result"
    }
   ],
   "source": [
    "new_df['Age'].max()"
   ]
  },
  {
   "cell_type": "code",
   "execution_count": 65,
   "metadata": {},
   "outputs": [
    {
     "data": {
      "text/html": [
       "<div>\n",
       "<style scoped>\n",
       "    .dataframe tbody tr th:only-of-type {\n",
       "        vertical-align: middle;\n",
       "    }\n",
       "\n",
       "    .dataframe tbody tr th {\n",
       "        vertical-align: top;\n",
       "    }\n",
       "\n",
       "    .dataframe thead th {\n",
       "        text-align: right;\n",
       "    }\n",
       "</style>\n",
       "<table border=\"1\" class=\"dataframe\">\n",
       "  <thead>\n",
       "    <tr style=\"text-align: right;\">\n",
       "      <th></th>\n",
       "      <th>Unnamed: 0</th>\n",
       "      <th>ID</th>\n",
       "      <th>Name</th>\n",
       "      <th>Age</th>\n",
       "      <th>Photo</th>\n",
       "      <th>Nationality</th>\n",
       "      <th>Flag</th>\n",
       "      <th>Overall</th>\n",
       "      <th>Potential</th>\n",
       "      <th>Club</th>\n",
       "      <th>...</th>\n",
       "      <th>Composure</th>\n",
       "      <th>Marking</th>\n",
       "      <th>StandingTackle</th>\n",
       "      <th>SlidingTackle</th>\n",
       "      <th>GKDiving</th>\n",
       "      <th>GKHandling</th>\n",
       "      <th>GKKicking</th>\n",
       "      <th>GKPositioning</th>\n",
       "      <th>GKReflexes</th>\n",
       "      <th>Age Range</th>\n",
       "    </tr>\n",
       "  </thead>\n",
       "  <tbody>\n",
       "    <tr>\n",
       "      <th>0</th>\n",
       "      <td>0</td>\n",
       "      <td>158023</td>\n",
       "      <td>L. Messi</td>\n",
       "      <td>31</td>\n",
       "      <td>https://cdn.sofifa.org/players/4/19/158023.png</td>\n",
       "      <td>Argentina</td>\n",
       "      <td>https://cdn.sofifa.org/flags/52.png</td>\n",
       "      <td>94</td>\n",
       "      <td>94</td>\n",
       "      <td>FC Barcelona</td>\n",
       "      <td>...</td>\n",
       "      <td>96.0</td>\n",
       "      <td>33.0</td>\n",
       "      <td>28.0</td>\n",
       "      <td>26.0</td>\n",
       "      <td>6.0</td>\n",
       "      <td>11.0</td>\n",
       "      <td>15.0</td>\n",
       "      <td>14.0</td>\n",
       "      <td>8.0</td>\n",
       "      <td>31-35</td>\n",
       "    </tr>\n",
       "    <tr>\n",
       "      <th>1</th>\n",
       "      <td>1</td>\n",
       "      <td>20801</td>\n",
       "      <td>Cristiano Ronaldo</td>\n",
       "      <td>33</td>\n",
       "      <td>https://cdn.sofifa.org/players/4/19/20801.png</td>\n",
       "      <td>Portugal</td>\n",
       "      <td>https://cdn.sofifa.org/flags/38.png</td>\n",
       "      <td>94</td>\n",
       "      <td>94</td>\n",
       "      <td>Juventus</td>\n",
       "      <td>...</td>\n",
       "      <td>95.0</td>\n",
       "      <td>28.0</td>\n",
       "      <td>31.0</td>\n",
       "      <td>23.0</td>\n",
       "      <td>7.0</td>\n",
       "      <td>11.0</td>\n",
       "      <td>15.0</td>\n",
       "      <td>14.0</td>\n",
       "      <td>11.0</td>\n",
       "      <td>31-35</td>\n",
       "    </tr>\n",
       "    <tr>\n",
       "      <th>2</th>\n",
       "      <td>2</td>\n",
       "      <td>190871</td>\n",
       "      <td>Neymar Jr</td>\n",
       "      <td>26</td>\n",
       "      <td>https://cdn.sofifa.org/players/4/19/190871.png</td>\n",
       "      <td>Brazil</td>\n",
       "      <td>https://cdn.sofifa.org/flags/54.png</td>\n",
       "      <td>92</td>\n",
       "      <td>93</td>\n",
       "      <td>Paris Saint-Germain</td>\n",
       "      <td>...</td>\n",
       "      <td>94.0</td>\n",
       "      <td>27.0</td>\n",
       "      <td>24.0</td>\n",
       "      <td>33.0</td>\n",
       "      <td>9.0</td>\n",
       "      <td>9.0</td>\n",
       "      <td>15.0</td>\n",
       "      <td>15.0</td>\n",
       "      <td>11.0</td>\n",
       "      <td>26-30</td>\n",
       "    </tr>\n",
       "    <tr>\n",
       "      <th>3</th>\n",
       "      <td>3</td>\n",
       "      <td>193080</td>\n",
       "      <td>De Gea</td>\n",
       "      <td>27</td>\n",
       "      <td>https://cdn.sofifa.org/players/4/19/193080.png</td>\n",
       "      <td>Spain</td>\n",
       "      <td>https://cdn.sofifa.org/flags/45.png</td>\n",
       "      <td>91</td>\n",
       "      <td>93</td>\n",
       "      <td>Manchester United</td>\n",
       "      <td>...</td>\n",
       "      <td>68.0</td>\n",
       "      <td>15.0</td>\n",
       "      <td>21.0</td>\n",
       "      <td>13.0</td>\n",
       "      <td>90.0</td>\n",
       "      <td>85.0</td>\n",
       "      <td>87.0</td>\n",
       "      <td>88.0</td>\n",
       "      <td>94.0</td>\n",
       "      <td>26-30</td>\n",
       "    </tr>\n",
       "    <tr>\n",
       "      <th>4</th>\n",
       "      <td>4</td>\n",
       "      <td>192985</td>\n",
       "      <td>K. De Bruyne</td>\n",
       "      <td>27</td>\n",
       "      <td>https://cdn.sofifa.org/players/4/19/192985.png</td>\n",
       "      <td>Belgium</td>\n",
       "      <td>https://cdn.sofifa.org/flags/7.png</td>\n",
       "      <td>91</td>\n",
       "      <td>92</td>\n",
       "      <td>Manchester City</td>\n",
       "      <td>...</td>\n",
       "      <td>88.0</td>\n",
       "      <td>68.0</td>\n",
       "      <td>58.0</td>\n",
       "      <td>51.0</td>\n",
       "      <td>15.0</td>\n",
       "      <td>13.0</td>\n",
       "      <td>5.0</td>\n",
       "      <td>10.0</td>\n",
       "      <td>13.0</td>\n",
       "      <td>26-30</td>\n",
       "    </tr>\n",
       "  </tbody>\n",
       "</table>\n",
       "<p>5 rows × 61 columns</p>\n",
       "</div>"
      ],
      "text/plain": [
       "   Unnamed: 0      ID               Name  Age  \\\n",
       "0           0  158023           L. Messi   31   \n",
       "1           1   20801  Cristiano Ronaldo   33   \n",
       "2           2  190871          Neymar Jr   26   \n",
       "3           3  193080             De Gea   27   \n",
       "4           4  192985       K. De Bruyne   27   \n",
       "\n",
       "                                            Photo Nationality  \\\n",
       "0  https://cdn.sofifa.org/players/4/19/158023.png   Argentina   \n",
       "1   https://cdn.sofifa.org/players/4/19/20801.png    Portugal   \n",
       "2  https://cdn.sofifa.org/players/4/19/190871.png      Brazil   \n",
       "3  https://cdn.sofifa.org/players/4/19/193080.png       Spain   \n",
       "4  https://cdn.sofifa.org/players/4/19/192985.png     Belgium   \n",
       "\n",
       "                                  Flag  Overall  Potential  \\\n",
       "0  https://cdn.sofifa.org/flags/52.png       94         94   \n",
       "1  https://cdn.sofifa.org/flags/38.png       94         94   \n",
       "2  https://cdn.sofifa.org/flags/54.png       92         93   \n",
       "3  https://cdn.sofifa.org/flags/45.png       91         93   \n",
       "4   https://cdn.sofifa.org/flags/7.png       91         92   \n",
       "\n",
       "                  Club  ... Composure Marking  StandingTackle  SlidingTackle  \\\n",
       "0         FC Barcelona  ...      96.0    33.0            28.0           26.0   \n",
       "1             Juventus  ...      95.0    28.0            31.0           23.0   \n",
       "2  Paris Saint-Germain  ...      94.0    27.0            24.0           33.0   \n",
       "3    Manchester United  ...      68.0    15.0            21.0           13.0   \n",
       "4      Manchester City  ...      88.0    68.0            58.0           51.0   \n",
       "\n",
       "  GKDiving  GKHandling  GKKicking  GKPositioning GKReflexes Age Range  \n",
       "0      6.0        11.0       15.0           14.0        8.0     31-35  \n",
       "1      7.0        11.0       15.0           14.0       11.0     31-35  \n",
       "2      9.0         9.0       15.0           15.0       11.0     26-30  \n",
       "3     90.0        85.0       87.0           88.0       94.0     26-30  \n",
       "4     15.0        13.0        5.0           10.0       13.0     26-30  \n",
       "\n",
       "[5 rows x 61 columns]"
      ]
     },
     "execution_count": 65,
     "metadata": {},
     "output_type": "execute_result"
    }
   ],
   "source": [
    "new_df=new_df.dropna()\n",
    "new_df.isnull().sum()\n",
    "new_df.head()"
   ]
  },
  {
   "cell_type": "code",
   "execution_count": 9,
   "metadata": {},
   "outputs": [],
   "source": [
    "# changing Wage to int\n",
    "wage_value=[]\n",
    "\n",
    "for wage in new_df['Wage']:\n",
    "    string_val = sub(r'[^\\d.]', '000', wage)\n",
    "    wage_value.append(string_val)\n",
    "\n",
    "new_df['Wage'] = wage_value\n",
    "new_df['Wage'] = new_df['Wage'].astype(int)"
   ]
  },
  {
   "cell_type": "code",
   "execution_count": 10,
   "metadata": {},
   "outputs": [
    {
     "name": "stdout",
     "output_type": "stream",
     "text": [
      "0    565000\n",
      "1    405000\n",
      "2    290000\n",
      "3    260000\n",
      "4    355000\n",
      "Name: Wage, dtype: int64\n"
     ]
    }
   ],
   "source": [
    "print(new_df['Wage'].head())"
   ]
  },
  {
   "cell_type": "markdown",
   "metadata": {},
   "source": [
    "# Sandy"
   ]
  },
  {
   "cell_type": "code",
   "execution_count": 52,
   "metadata": {},
   "outputs": [
    {
     "name": "stdout",
     "output_type": "stream",
     "text": [
      "0    565000\n",
      "1    405000\n",
      "2    290000\n",
      "3    260000\n",
      "4    355000\n",
      "Name: Wage, dtype: int64\n"
     ]
    }
   ],
   "source": [
    "wage_df = new_df[['ID','Name','Wage']]\n",
    "wage_df.dropna()\n",
    "wage_df.head(10)\n",
    "print(wage_df[\"Wage\"].head())"
   ]
  },
  {
   "cell_type": "code",
   "execution_count": 53,
   "metadata": {},
   "outputs": [
    {
     "name": "stderr",
     "output_type": "stream",
     "text": [
      "/usr/local/anaconda3/lib/python3.7/site-packages/ipykernel_launcher.py:2: SettingWithCopyWarning: \n",
      "A value is trying to be set on a copy of a slice from a DataFrame\n",
      "\n",
      "See the caveats in the documentation: http://pandas.pydata.org/pandas-docs/stable/indexing.html#indexing-view-versus-copy\n",
      "  \n"
     ]
    },
    {
     "data": {
      "text/html": [
       "<div>\n",
       "<style scoped>\n",
       "    .dataframe tbody tr th:only-of-type {\n",
       "        vertical-align: middle;\n",
       "    }\n",
       "\n",
       "    .dataframe tbody tr th {\n",
       "        vertical-align: top;\n",
       "    }\n",
       "\n",
       "    .dataframe thead th {\n",
       "        text-align: right;\n",
       "    }\n",
       "</style>\n",
       "<table border=\"1\" class=\"dataframe\">\n",
       "  <thead>\n",
       "    <tr style=\"text-align: right;\">\n",
       "      <th></th>\n",
       "      <th>ID</th>\n",
       "      <th>Name</th>\n",
       "      <th>Wage</th>\n",
       "    </tr>\n",
       "  </thead>\n",
       "  <tbody>\n",
       "    <tr>\n",
       "      <th>0</th>\n",
       "      <td>158023</td>\n",
       "      <td>L. Messi</td>\n",
       "      <td>565000</td>\n",
       "    </tr>\n",
       "    <tr>\n",
       "      <th>7</th>\n",
       "      <td>176580</td>\n",
       "      <td>L. Suárez</td>\n",
       "      <td>455000</td>\n",
       "    </tr>\n",
       "  </tbody>\n",
       "</table>\n",
       "</div>"
      ],
      "text/plain": [
       "       ID       Name    Wage\n",
       "0  158023   L. Messi  565000\n",
       "7  176580  L. Suárez  455000"
      ]
     },
     "execution_count": 53,
     "metadata": {},
     "output_type": "execute_result"
    }
   ],
   "source": [
    "# Sorting player wages in descending order\n",
    "wage_df.sort_values(inplace=True,by='Wage', ascending=False)\n",
    "wage_df.head(2)"
   ]
  },
  {
   "cell_type": "code",
   "execution_count": 54,
   "metadata": {},
   "outputs": [
    {
     "name": "stdout",
     "output_type": "stream",
     "text": [
      "        ID               Name    Wage\n",
      "0   158023           L. Messi  565000\n",
      "1   176580          L. Suárez  455000\n",
      "2   177003          L. Modrić  420000\n",
      "3    20801  Cristiano Ronaldo  405000\n",
      "4   155862       Sergio Ramos  380000\n",
      "5   192985       K. De Bruyne  355000\n",
      "6   173731            G. Bale  355000\n",
      "7   182521           T. Kroos  355000\n",
      "8   189242           Coutinho  340000\n",
      "9   183277          E. Hazard  340000\n",
      "10  197781               Isco  315000\n"
     ]
    }
   ],
   "source": [
    "# Create top 10 wage earner df\n",
    "\n",
    "wage_df.reset_index(drop=True, inplace=True)\n",
    "top10_df = wage_df.loc[0:10] \n",
    "print(top10_df)"
   ]
  },
  {
   "cell_type": "code",
   "execution_count": 55,
   "metadata": {},
   "outputs": [
    {
     "data": {
      "image/png": "[encoded data removed]",
      "text/plain": [
       "<Figure size 432x288 with 1 Axes>"
      ]
     },
     "metadata": {
      "needs_background": "light"
     },
     "output_type": "display_data"
    }
   ],
   "source": [
    "# Create bar chart for highest paid players\n",
    "player_name=top10_df[\"Name\"]\n",
    "player_wage = top10_df[\"Wage\"]\n",
    "\n",
    "x_axis = np.arange(len(player_name))\n",
    "plt.bar(x_axis,player_wage, color='g', alpha=0.5, align=\"center\")\n",
    "\n",
    "tick_locations = [value for value in x_axis]\n",
    "plt.xticks(tick_locations, player_name, rotation=\"vertical\")\n",
    "\n",
    "plt.title(\"Top 10 Players by Current Wage\")\n",
    "plt.xlabel(\"Player Name\")\n",
    "plt.ylabel(\"Player's Wage\")\n",
    "plt.savefig(\"PlayerWage.png\")"
   ]
  },
  {
   "cell_type": "code",
   "execution_count": null,
   "metadata": {},
   "outputs": [],
   "source": []
  },
  {
   "cell_type": "markdown",
   "metadata": {},
   "source": [
    "# Ola"
   ]
  },
  {
   "cell_type": "code",
   "execution_count": 56,
   "metadata": {},
   "outputs": [],
   "source": [
    "total_players_new=new_df['ID'].nunique()"
   ]
  },
  {
   "cell_type": "code",
   "execution_count": 57,
   "metadata": {},
   "outputs": [
    {
     "data": {
      "text/html": [
       "<div>\n",
       "<style scoped>\n",
       "    .dataframe tbody tr th:only-of-type {\n",
       "        vertical-align: middle;\n",
       "    }\n",
       "\n",
       "    .dataframe tbody tr th {\n",
       "        vertical-align: top;\n",
       "    }\n",
       "\n",
       "    .dataframe thead th {\n",
       "        text-align: right;\n",
       "    }\n",
       "</style>\n",
       "<table border=\"1\" class=\"dataframe\">\n",
       "  <thead>\n",
       "    <tr style=\"text-align: right;\">\n",
       "      <th></th>\n",
       "      <th></th>\n",
       "      <th>Overall</th>\n",
       "    </tr>\n",
       "    <tr>\n",
       "      <th>Name</th>\n",
       "      <th>Nationality</th>\n",
       "      <th></th>\n",
       "    </tr>\n",
       "  </thead>\n",
       "  <tbody>\n",
       "    <tr>\n",
       "      <th>Cristiano Ronaldo</th>\n",
       "      <th>Portugal</th>\n",
       "      <td>94</td>\n",
       "    </tr>\n",
       "    <tr>\n",
       "      <th>L. Messi</th>\n",
       "      <th>Argentina</th>\n",
       "      <td>94</td>\n",
       "    </tr>\n",
       "    <tr>\n",
       "      <th>Neymar Jr</th>\n",
       "      <th>Brazil</th>\n",
       "      <td>92</td>\n",
       "    </tr>\n",
       "    <tr>\n",
       "      <th>L. Suárez</th>\n",
       "      <th>Uruguay</th>\n",
       "      <td>91</td>\n",
       "    </tr>\n",
       "    <tr>\n",
       "      <th>K. De Bruyne</th>\n",
       "      <th>Belgium</th>\n",
       "      <td>91</td>\n",
       "    </tr>\n",
       "    <tr>\n",
       "      <th>Sergio Ramos</th>\n",
       "      <th>Spain</th>\n",
       "      <td>91</td>\n",
       "    </tr>\n",
       "    <tr>\n",
       "      <th>De Gea</th>\n",
       "      <th>Spain</th>\n",
       "      <td>91</td>\n",
       "    </tr>\n",
       "    <tr>\n",
       "      <th>E. Hazard</th>\n",
       "      <th>Belgium</th>\n",
       "      <td>91</td>\n",
       "    </tr>\n",
       "    <tr>\n",
       "      <th>L. Modrić</th>\n",
       "      <th>Croatia</th>\n",
       "      <td>91</td>\n",
       "    </tr>\n",
       "    <tr>\n",
       "      <th>David Silva</th>\n",
       "      <th>Spain</th>\n",
       "      <td>90</td>\n",
       "    </tr>\n",
       "  </tbody>\n",
       "</table>\n",
       "</div>"
      ],
      "text/plain": [
       "                               Overall\n",
       "Name              Nationality         \n",
       "Cristiano Ronaldo Portugal          94\n",
       "L. Messi          Argentina         94\n",
       "Neymar Jr         Brazil            92\n",
       "L. Suárez         Uruguay           91\n",
       "K. De Bruyne      Belgium           91\n",
       "Sergio Ramos      Spain             91\n",
       "De Gea            Spain             91\n",
       "E. Hazard         Belgium           91\n",
       "L. Modrić         Croatia           91\n",
       "David Silva       Spain             90"
      ]
     },
     "execution_count": 57,
     "metadata": {},
     "output_type": "execute_result"
    }
   ],
   "source": [
    "# Analyze best Players based on rankings\n",
    "top_rated_player = pd.DataFrame(new_df.groupby([\"Name\", \"Nationality\"])[\"Overall\"].max().sort_values(ascending=False))\n",
    "top_rated_player.head(10)"
   ]
  },
  {
   "cell_type": "code",
   "execution_count": 58,
   "metadata": {},
   "outputs": [
    {
     "data": {
      "text/html": [
       "<div>\n",
       "<style scoped>\n",
       "    .dataframe tbody tr th:only-of-type {\n",
       "        vertical-align: middle;\n",
       "    }\n",
       "\n",
       "    .dataframe tbody tr th {\n",
       "        vertical-align: top;\n",
       "    }\n",
       "\n",
       "    .dataframe thead th {\n",
       "        text-align: right;\n",
       "    }\n",
       "</style>\n",
       "<table border=\"1\" class=\"dataframe\">\n",
       "  <thead>\n",
       "    <tr style=\"text-align: right;\">\n",
       "      <th></th>\n",
       "      <th>Name</th>\n",
       "      <th>Nationality</th>\n",
       "      <th>Overall</th>\n",
       "    </tr>\n",
       "  </thead>\n",
       "  <tbody>\n",
       "    <tr>\n",
       "      <th>0</th>\n",
       "      <td>Cristiano Ronaldo</td>\n",
       "      <td>Portugal</td>\n",
       "      <td>94</td>\n",
       "    </tr>\n",
       "    <tr>\n",
       "      <th>1</th>\n",
       "      <td>L. Messi</td>\n",
       "      <td>Argentina</td>\n",
       "      <td>94</td>\n",
       "    </tr>\n",
       "    <tr>\n",
       "      <th>2</th>\n",
       "      <td>Neymar Jr</td>\n",
       "      <td>Brazil</td>\n",
       "      <td>92</td>\n",
       "    </tr>\n",
       "    <tr>\n",
       "      <th>3</th>\n",
       "      <td>L. Suárez</td>\n",
       "      <td>Uruguay</td>\n",
       "      <td>91</td>\n",
       "    </tr>\n",
       "    <tr>\n",
       "      <th>4</th>\n",
       "      <td>K. De Bruyne</td>\n",
       "      <td>Belgium</td>\n",
       "      <td>91</td>\n",
       "    </tr>\n",
       "    <tr>\n",
       "      <th>5</th>\n",
       "      <td>Sergio Ramos</td>\n",
       "      <td>Spain</td>\n",
       "      <td>91</td>\n",
       "    </tr>\n",
       "    <tr>\n",
       "      <th>6</th>\n",
       "      <td>De Gea</td>\n",
       "      <td>Spain</td>\n",
       "      <td>91</td>\n",
       "    </tr>\n",
       "    <tr>\n",
       "      <th>7</th>\n",
       "      <td>E. Hazard</td>\n",
       "      <td>Belgium</td>\n",
       "      <td>91</td>\n",
       "    </tr>\n",
       "    <tr>\n",
       "      <th>8</th>\n",
       "      <td>L. Modrić</td>\n",
       "      <td>Croatia</td>\n",
       "      <td>91</td>\n",
       "    </tr>\n",
       "    <tr>\n",
       "      <th>9</th>\n",
       "      <td>David Silva</td>\n",
       "      <td>Spain</td>\n",
       "      <td>90</td>\n",
       "    </tr>\n",
       "  </tbody>\n",
       "</table>\n",
       "</div>"
      ],
      "text/plain": [
       "                Name Nationality  Overall\n",
       "0  Cristiano Ronaldo    Portugal       94\n",
       "1           L. Messi   Argentina       94\n",
       "2          Neymar Jr      Brazil       92\n",
       "3          L. Suárez     Uruguay       91\n",
       "4       K. De Bruyne     Belgium       91\n",
       "5       Sergio Ramos       Spain       91\n",
       "6             De Gea       Spain       91\n",
       "7          E. Hazard     Belgium       91\n",
       "8          L. Modrić     Croatia       91\n",
       "9        David Silva       Spain       90"
      ]
     },
     "execution_count": 58,
     "metadata": {},
     "output_type": "execute_result"
    }
   ],
   "source": [
    "#reset the index\n",
    "temp=top_rated_player.reset_index().head(10)\n",
    "temp"
   ]
  },
  {
   "cell_type": "code",
   "execution_count": 59,
   "metadata": {},
   "outputs": [
    {
     "data": {
      "image/png": "[encoded data removed]",
      "text/plain": [
       "<Figure size 432x288 with 1 Axes>"
      ]
     },
     "metadata": {
      "needs_background": "light"
     },
     "output_type": "display_data"
    },
    {
     "data": {
      "text/plain": [
       "<Figure size 432x288 with 0 Axes>"
      ]
     },
     "metadata": {},
     "output_type": "display_data"
    }
   ],
   "source": [
    "#temp_area = temp.plot.area(\"Nationality\")\n",
    "player_name=temp[\"Name\"]\n",
    "player_overall = temp[\"Overall\"]\n",
    "x_axis = np.arange(len(player_name))\n",
    "\n",
    "fig = plt.figure()\n",
    "temp_area = fig.add_subplot(111)\n",
    "tick_locations = [value for value in x_axis]\n",
    "plt.xticks(tick_locations, player_name, rotation=\"vertical\")\n",
    "temp_area.stackplot(player_name, player_overall, color = 'g')\n",
    "temp_area.set_title(\"Top 10 Players by Overall Ranking\")\n",
    "temp_area.set_xlabel(\"Player Name\")\n",
    "temp_area.set_ylabel(\"Overall Ranking\")\n",
    "# Set margins to avoid \"whitespace\"\n",
    "temp_area.margins(0, 0) \n",
    "plt.show()\n",
    "plt.savefig(\"PlayerRatings.png\")"
   ]
  },
  {
   "cell_type": "code",
   "execution_count": 60,
   "metadata": {},
   "outputs": [
    {
     "data": {
      "image/png": "[encoded data removed]",
      "text/plain": [
       "<Figure size 432x288 with 1 Axes>"
      ]
     },
     "metadata": {
      "needs_background": "light"
     },
     "output_type": "display_data"
    }
   ],
   "source": [
    "# Create bar chart for highest rated players\n",
    "player_name=temp[\"Name\"]\n",
    "player_overall = temp[\"Overall\"]\n",
    "x_axis = np.arange(len(player_name))\n",
    "plt.bar(x_axis,player_overall, color='g', alpha=0.5, align=\"center\")\n",
    "tick_locations = [value for value in x_axis]\n",
    "plt.xticks(tick_locations, player_name, rotation=\"vertical\")\n",
    "plt.title(\"Top 10 Players by Overall Ranking\")\n",
    "plt.xlabel(\"Player Name\")\n",
    "plt.ylabel(\"Player's Overall Ranking\")\n",
    "plt.savefig(\"PlayerRanking.png\")"
   ]
  },
  {
   "cell_type": "code",
   "execution_count": 61,
   "metadata": {},
   "outputs": [
    {
     "data": {
      "text/plain": [
       "England                1657\n",
       "Germany                1195\n",
       "Spain                  1071\n",
       "Argentina               935\n",
       "France                  911\n",
       "Brazil                  825\n",
       "Italy                   699\n",
       "Colombia                616\n",
       "Japan                   478\n",
       "Netherlands             452\n",
       "Sweden                  394\n",
       "China PR                390\n",
       "Chile                   388\n",
       "Republic of Ireland     368\n",
       "Mexico                  365\n",
       "United States           353\n",
       "Poland                  347\n",
       "Norway                  341\n",
       "Saudi Arabia            337\n",
       "Denmark                 335\n",
       "Name: Nationality, dtype: int64"
      ]
     },
     "execution_count": 61,
     "metadata": {},
     "output_type": "execute_result"
    }
   ],
   "source": [
    "#Find total count of players from every nationality\n",
    "player_nationality = new_df.sort_values(by='Nationality').Nationality.value_counts()\n",
    "player_nationality.head(20)"
   ]
  },
  {
   "cell_type": "code",
   "execution_count": 62,
   "metadata": {},
   "outputs": [
    {
     "data": {
      "text/html": [
       "<div>\n",
       "<style scoped>\n",
       "    .dataframe tbody tr th:only-of-type {\n",
       "        vertical-align: middle;\n",
       "    }\n",
       "\n",
       "    .dataframe tbody tr th {\n",
       "        vertical-align: top;\n",
       "    }\n",
       "\n",
       "    .dataframe thead th {\n",
       "        text-align: right;\n",
       "    }\n",
       "</style>\n",
       "<table border=\"1\" class=\"dataframe\">\n",
       "  <thead>\n",
       "    <tr style=\"text-align: right;\">\n",
       "      <th></th>\n",
       "      <th>Nationality</th>\n",
       "      <th>Player Count</th>\n",
       "    </tr>\n",
       "  </thead>\n",
       "  <tbody>\n",
       "    <tr>\n",
       "      <th>0</th>\n",
       "      <td>England</td>\n",
       "      <td>1662</td>\n",
       "    </tr>\n",
       "    <tr>\n",
       "      <th>1</th>\n",
       "      <td>Germany</td>\n",
       "      <td>1198</td>\n",
       "    </tr>\n",
       "    <tr>\n",
       "      <th>2</th>\n",
       "      <td>Spain</td>\n",
       "      <td>1072</td>\n",
       "    </tr>\n",
       "    <tr>\n",
       "      <th>3</th>\n",
       "      <td>Argentina</td>\n",
       "      <td>937</td>\n",
       "    </tr>\n",
       "    <tr>\n",
       "      <th>4</th>\n",
       "      <td>France</td>\n",
       "      <td>914</td>\n",
       "    </tr>\n",
       "    <tr>\n",
       "      <th>5</th>\n",
       "      <td>Brazil</td>\n",
       "      <td>827</td>\n",
       "    </tr>\n",
       "    <tr>\n",
       "      <th>6</th>\n",
       "      <td>Italy</td>\n",
       "      <td>702</td>\n",
       "    </tr>\n",
       "    <tr>\n",
       "      <th>7</th>\n",
       "      <td>Colombia</td>\n",
       "      <td>618</td>\n",
       "    </tr>\n",
       "    <tr>\n",
       "      <th>8</th>\n",
       "      <td>Japan</td>\n",
       "      <td>478</td>\n",
       "    </tr>\n",
       "    <tr>\n",
       "      <th>9</th>\n",
       "      <td>Netherlands</td>\n",
       "      <td>453</td>\n",
       "    </tr>\n",
       "    <tr>\n",
       "      <th>10</th>\n",
       "      <td>Sweden</td>\n",
       "      <td>397</td>\n",
       "    </tr>\n",
       "    <tr>\n",
       "      <th>11</th>\n",
       "      <td>China PR</td>\n",
       "      <td>392</td>\n",
       "    </tr>\n",
       "    <tr>\n",
       "      <th>12</th>\n",
       "      <td>Chile</td>\n",
       "      <td>391</td>\n",
       "    </tr>\n",
       "    <tr>\n",
       "      <th>13</th>\n",
       "      <td>Republic of Ireland</td>\n",
       "      <td>368</td>\n",
       "    </tr>\n",
       "    <tr>\n",
       "      <th>14</th>\n",
       "      <td>Mexico</td>\n",
       "      <td>366</td>\n",
       "    </tr>\n",
       "    <tr>\n",
       "      <th>15</th>\n",
       "      <td>United States</td>\n",
       "      <td>353</td>\n",
       "    </tr>\n",
       "    <tr>\n",
       "      <th>16</th>\n",
       "      <td>Poland</td>\n",
       "      <td>350</td>\n",
       "    </tr>\n",
       "    <tr>\n",
       "      <th>17</th>\n",
       "      <td>Norway</td>\n",
       "      <td>341</td>\n",
       "    </tr>\n",
       "    <tr>\n",
       "      <th>18</th>\n",
       "      <td>Saudi Arabia</td>\n",
       "      <td>340</td>\n",
       "    </tr>\n",
       "    <tr>\n",
       "      <th>19</th>\n",
       "      <td>Denmark</td>\n",
       "      <td>336</td>\n",
       "    </tr>\n",
       "  </tbody>\n",
       "</table>\n",
       "</div>"
      ],
      "text/plain": [
       "            Nationality Player Count\n",
       "0               England         1662\n",
       "1               Germany         1198\n",
       "2                 Spain         1072\n",
       "3             Argentina          937\n",
       "4                France          914\n",
       "5                Brazil          827\n",
       "6                 Italy          702\n",
       "7              Colombia          618\n",
       "8                 Japan          478\n",
       "9           Netherlands          453\n",
       "10               Sweden          397\n",
       "11            China PR           392\n",
       "12                Chile          391\n",
       "13  Republic of Ireland          368\n",
       "14               Mexico          366\n",
       "15        United States          353\n",
       "16               Poland          350\n",
       "17               Norway          341\n",
       "18         Saudi Arabia          340\n",
       "19              Denmark          336"
      ]
     },
     "execution_count": 62,
     "metadata": {},
     "output_type": "execute_result"
    }
   ],
   "source": [
    "#create new dataframe for top 20 countries with highest count of players\n",
    "new_player_nationality = pd.DataFrame({\n",
    "                        \"Nationality\": [\"England\", \"Germany\",\"Spain\",\"Argentina\",\"France\",\"Brazil\",\"Italy\",\"Colombia\",\"Japan\",\"Netherlands\",\"Sweden\",\"China PR \",\"Chile\",\"Republic of Ireland\",\"Mexico\",\"United States\",\"Poland\",\"Norway\",\"Saudi Arabia\",\"Denmark\"],\n",
    "                        \"Player Count\":[\"1662\",\"1198\",\"1072\",\"937\",\"914\",\"827\",\"702\",\"618\",\"478\",\"453\",\"397\",\"392\",\"391\",\"368\",\"366\",\"353\",\"350\",\"341\",\"340\",\"336\"]})\n",
    "new_player_nationality"
   ]
  },
  {
   "cell_type": "code",
   "execution_count": 63,
   "metadata": {},
   "outputs": [
    {
     "data": {
      "image/png": "[encoded data removed]",
      "text/plain": [
       "<Figure size 1080x720 with 1 Axes>"
      ]
     },
     "metadata": {
      "needs_background": "light"
     },
     "output_type": "display_data"
    }
   ],
   "source": [
    "# Create bar chart for nationalities with highest player count\n",
    "player_nationality=new_player_nationality[\"Nationality\"]\n",
    "player_count = new_player_nationality[\"Player Count\"]\n",
    "x_axis = np.arange(len(player_nationality))\n",
    "plt.figure(figsize=(15,10))\n",
    "plt.bar(x_axis,player_count, color='b', alpha=0.8, align=\"center\")\n",
    "tick_locations = [value for value in x_axis]\n",
    "plt.xticks(tick_locations, player_nationality, rotation=\"vertical\", fontsize=14)\n",
    "plt.title(\"Top 20 Nationalities with highest Player Count\")\n",
    "plt.xlabel(\"Player Nationality\")\n",
    "plt.ylabel(\"Player Count\")\n",
    "plt.savefig(\"PlayerNationalityCount.png\")"
   ]
  },
  {
   "cell_type": "code",
   "execution_count": 64,
   "metadata": {},
   "outputs": [
    {
     "data": {
      "text/html": [
       "<div>\n",
       "<style scoped>\n",
       "    .dataframe tbody tr th:only-of-type {\n",
       "        vertical-align: middle;\n",
       "    }\n",
       "\n",
       "    .dataframe tbody tr th {\n",
       "        vertical-align: top;\n",
       "    }\n",
       "\n",
       "    .dataframe thead th {\n",
       "        text-align: right;\n",
       "    }\n",
       "</style>\n",
       "<table border=\"1\" class=\"dataframe\">\n",
       "  <thead>\n",
       "    <tr style=\"text-align: right;\">\n",
       "      <th></th>\n",
       "      <th>Unnamed: 0</th>\n",
       "      <th>ID</th>\n",
       "      <th>Name</th>\n",
       "      <th>Age</th>\n",
       "      <th>Photo</th>\n",
       "      <th>Nationality</th>\n",
       "      <th>Flag</th>\n",
       "      <th>Overall</th>\n",
       "      <th>Potential</th>\n",
       "      <th>Club</th>\n",
       "      <th>...</th>\n",
       "      <th>Composure</th>\n",
       "      <th>Marking</th>\n",
       "      <th>StandingTackle</th>\n",
       "      <th>SlidingTackle</th>\n",
       "      <th>GKDiving</th>\n",
       "      <th>GKHandling</th>\n",
       "      <th>GKKicking</th>\n",
       "      <th>GKPositioning</th>\n",
       "      <th>GKReflexes</th>\n",
       "      <th>Age Range</th>\n",
       "    </tr>\n",
       "  </thead>\n",
       "  <tbody>\n",
       "    <tr>\n",
       "      <th>570</th>\n",
       "      <td>570</td>\n",
       "      <td>227796</td>\n",
       "      <td>C. Pulisic</td>\n",
       "      <td>19</td>\n",
       "      <td>https://cdn.sofifa.org/players/4/19/227796.png</td>\n",
       "      <td>United States</td>\n",
       "      <td>https://cdn.sofifa.org/flags/95.png</td>\n",
       "      <td>79</td>\n",
       "      <td>87</td>\n",
       "      <td>Borussia Dortmund</td>\n",
       "      <td>...</td>\n",
       "      <td>67.0</td>\n",
       "      <td>38.0</td>\n",
       "      <td>30.0</td>\n",
       "      <td>41.0</td>\n",
       "      <td>8.0</td>\n",
       "      <td>12.0</td>\n",
       "      <td>13.0</td>\n",
       "      <td>16.0</td>\n",
       "      <td>14.0</td>\n",
       "      <td>&lt;20</td>\n",
       "    </tr>\n",
       "    <tr>\n",
       "      <th>619</th>\n",
       "      <td>619</td>\n",
       "      <td>204082</td>\n",
       "      <td>J. Brooks</td>\n",
       "      <td>25</td>\n",
       "      <td>https://cdn.sofifa.org/players/4/19/204082.png</td>\n",
       "      <td>United States</td>\n",
       "      <td>https://cdn.sofifa.org/flags/95.png</td>\n",
       "      <td>79</td>\n",
       "      <td>84</td>\n",
       "      <td>VfL Wolfsburg</td>\n",
       "      <td>...</td>\n",
       "      <td>81.0</td>\n",
       "      <td>79.0</td>\n",
       "      <td>81.0</td>\n",
       "      <td>76.0</td>\n",
       "      <td>8.0</td>\n",
       "      <td>7.0</td>\n",
       "      <td>10.0</td>\n",
       "      <td>9.0</td>\n",
       "      <td>10.0</td>\n",
       "      <td>21-25</td>\n",
       "    </tr>\n",
       "    <tr>\n",
       "      <th>900</th>\n",
       "      <td>900</td>\n",
       "      <td>177159</td>\n",
       "      <td>F. Johnson</td>\n",
       "      <td>30</td>\n",
       "      <td>https://cdn.sofifa.org/players/4/19/177159.png</td>\n",
       "      <td>United States</td>\n",
       "      <td>https://cdn.sofifa.org/flags/95.png</td>\n",
       "      <td>77</td>\n",
       "      <td>77</td>\n",
       "      <td>Borussia Mönchengladbach</td>\n",
       "      <td>...</td>\n",
       "      <td>70.0</td>\n",
       "      <td>62.0</td>\n",
       "      <td>75.0</td>\n",
       "      <td>73.0</td>\n",
       "      <td>7.0</td>\n",
       "      <td>7.0</td>\n",
       "      <td>10.0</td>\n",
       "      <td>12.0</td>\n",
       "      <td>15.0</td>\n",
       "      <td>26-30</td>\n",
       "    </tr>\n",
       "    <tr>\n",
       "      <th>984</th>\n",
       "      <td>984</td>\n",
       "      <td>202316</td>\n",
       "      <td>T. Chandler</td>\n",
       "      <td>28</td>\n",
       "      <td>https://cdn.sofifa.org/players/4/19/202316.png</td>\n",
       "      <td>United States</td>\n",
       "      <td>https://cdn.sofifa.org/flags/95.png</td>\n",
       "      <td>77</td>\n",
       "      <td>77</td>\n",
       "      <td>Eintracht Frankfurt</td>\n",
       "      <td>...</td>\n",
       "      <td>71.0</td>\n",
       "      <td>74.0</td>\n",
       "      <td>79.0</td>\n",
       "      <td>79.0</td>\n",
       "      <td>12.0</td>\n",
       "      <td>7.0</td>\n",
       "      <td>8.0</td>\n",
       "      <td>11.0</td>\n",
       "      <td>12.0</td>\n",
       "      <td>26-30</td>\n",
       "    </tr>\n",
       "    <tr>\n",
       "      <th>1373</th>\n",
       "      <td>1373</td>\n",
       "      <td>176237</td>\n",
       "      <td>J. Altidore</td>\n",
       "      <td>28</td>\n",
       "      <td>https://cdn.sofifa.org/players/4/19/176237.png</td>\n",
       "      <td>United States</td>\n",
       "      <td>https://cdn.sofifa.org/flags/95.png</td>\n",
       "      <td>76</td>\n",
       "      <td>76</td>\n",
       "      <td>Toronto FC</td>\n",
       "      <td>...</td>\n",
       "      <td>70.0</td>\n",
       "      <td>15.0</td>\n",
       "      <td>34.0</td>\n",
       "      <td>27.0</td>\n",
       "      <td>16.0</td>\n",
       "      <td>9.0</td>\n",
       "      <td>14.0</td>\n",
       "      <td>12.0</td>\n",
       "      <td>12.0</td>\n",
       "      <td>26-30</td>\n",
       "    </tr>\n",
       "  </tbody>\n",
       "</table>\n",
       "<p>5 rows × 61 columns</p>\n",
       "</div>"
      ],
      "text/plain": [
       "      Unnamed: 0      ID         Name  Age  \\\n",
       "570          570  227796   C. Pulisic   19   \n",
       "619          619  204082    J. Brooks   25   \n",
       "900          900  177159   F. Johnson   30   \n",
       "984          984  202316  T. Chandler   28   \n",
       "1373        1373  176237  J. Altidore   28   \n",
       "\n",
       "                                               Photo    Nationality  \\\n",
       "570   https://cdn.sofifa.org/players/4/19/227796.png  United States   \n",
       "619   https://cdn.sofifa.org/players/4/19/204082.png  United States   \n",
       "900   https://cdn.sofifa.org/players/4/19/177159.png  United States   \n",
       "984   https://cdn.sofifa.org/players/4/19/202316.png  United States   \n",
       "1373  https://cdn.sofifa.org/players/4/19/176237.png  United States   \n",
       "\n",
       "                                     Flag  Overall  Potential  \\\n",
       "570   https://cdn.sofifa.org/flags/95.png       79         87   \n",
       "619   https://cdn.sofifa.org/flags/95.png       79         84   \n",
       "900   https://cdn.sofifa.org/flags/95.png       77         77   \n",
       "984   https://cdn.sofifa.org/flags/95.png       77         77   \n",
       "1373  https://cdn.sofifa.org/flags/95.png       76         76   \n",
       "\n",
       "                          Club  ... Composure Marking  StandingTackle  \\\n",
       "570          Borussia Dortmund  ...      67.0    38.0            30.0   \n",
       "619              VfL Wolfsburg  ...      81.0    79.0            81.0   \n",
       "900   Borussia Mönchengladbach  ...      70.0    62.0            75.0   \n",
       "984        Eintracht Frankfurt  ...      71.0    74.0            79.0   \n",
       "1373                Toronto FC  ...      70.0    15.0            34.0   \n",
       "\n",
       "      SlidingTackle GKDiving  GKHandling  GKKicking  GKPositioning GKReflexes  \\\n",
       "570            41.0      8.0        12.0       13.0           16.0       14.0   \n",
       "619            76.0      8.0         7.0       10.0            9.0       10.0   \n",
       "900            73.0      7.0         7.0       10.0           12.0       15.0   \n",
       "984            79.0     12.0         7.0        8.0           11.0       12.0   \n",
       "1373           27.0     16.0         9.0       14.0           12.0       12.0   \n",
       "\n",
       "     Age Range  \n",
       "570        <20  \n",
       "619      21-25  \n",
       "900      26-30  \n",
       "984      26-30  \n",
       "1373     26-30  \n",
       "\n",
       "[5 rows x 61 columns]"
      ]
     },
     "execution_count": 64,
     "metadata": {},
     "output_type": "execute_result"
    }
   ],
   "source": [
    "#Find out how many players a particular nationality has\n",
    "#Find  USA players there are in our dataset\n",
    "\n",
    "usa_players = new_df.loc[(new_df.Nationality==\"United States\")]\n",
    "usa_players.head()"
   ]
  },
  {
   "cell_type": "code",
   "execution_count": null,
   "metadata": {},
   "outputs": [],
   "source": []
  },
  {
   "cell_type": "code",
   "execution_count": null,
   "metadata": {},
   "outputs": [],
   "source": []
  },
  {
   "cell_type": "code",
   "execution_count": null,
   "metadata": {},
   "outputs": [],
   "source": []
  },
  {
   "cell_type": "markdown",
   "metadata": {},
   "source": [
    "# Parul"
   ]
  },
  {
   "cell_type": "code",
   "execution_count": 11,
   "metadata": {},
   "outputs": [],
   "source": [
    "# 1. Create bins for player age groups and correlate with salary/wages\n",
    "age_bins = [15, 20, 25, 30, 35,40,50]\n",
    "age_groups = [\"<20\", \"21-25\",\"26-30\",\"31-35\",\"36-40\",\">40\"]"
   ]
  },
  {
   "cell_type": "code",
   "execution_count": 12,
   "metadata": {},
   "outputs": [
    {
     "data": {
      "text/html": [
       "<div>\n",
       "<style scoped>\n",
       "    .dataframe tbody tr th:only-of-type {\n",
       "        vertical-align: middle;\n",
       "    }\n",
       "\n",
       "    .dataframe tbody tr th {\n",
       "        vertical-align: top;\n",
       "    }\n",
       "\n",
       "    .dataframe thead th {\n",
       "        text-align: right;\n",
       "    }\n",
       "</style>\n",
       "<table border=\"1\" class=\"dataframe\">\n",
       "  <thead>\n",
       "    <tr style=\"text-align: right;\">\n",
       "      <th></th>\n",
       "      <th>ID</th>\n",
       "      <th>Name</th>\n",
       "      <th>Age</th>\n",
       "      <th>Age Range</th>\n",
       "      <th>Wage</th>\n",
       "      <th>Value</th>\n",
       "    </tr>\n",
       "  </thead>\n",
       "  <tbody>\n",
       "    <tr>\n",
       "      <th>0</th>\n",
       "      <td>158023</td>\n",
       "      <td>L. Messi</td>\n",
       "      <td>31</td>\n",
       "      <td>31-35</td>\n",
       "      <td>565000</td>\n",
       "      <td>€110.5M</td>\n",
       "    </tr>\n",
       "    <tr>\n",
       "      <th>1</th>\n",
       "      <td>20801</td>\n",
       "      <td>Cristiano Ronaldo</td>\n",
       "      <td>33</td>\n",
       "      <td>31-35</td>\n",
       "      <td>405000</td>\n",
       "      <td>€77M</td>\n",
       "    </tr>\n",
       "    <tr>\n",
       "      <th>2</th>\n",
       "      <td>190871</td>\n",
       "      <td>Neymar Jr</td>\n",
       "      <td>26</td>\n",
       "      <td>26-30</td>\n",
       "      <td>290000</td>\n",
       "      <td>€118.5M</td>\n",
       "    </tr>\n",
       "    <tr>\n",
       "      <th>3</th>\n",
       "      <td>193080</td>\n",
       "      <td>De Gea</td>\n",
       "      <td>27</td>\n",
       "      <td>26-30</td>\n",
       "      <td>260000</td>\n",
       "      <td>€72M</td>\n",
       "    </tr>\n",
       "    <tr>\n",
       "      <th>4</th>\n",
       "      <td>192985</td>\n",
       "      <td>K. De Bruyne</td>\n",
       "      <td>27</td>\n",
       "      <td>26-30</td>\n",
       "      <td>355000</td>\n",
       "      <td>€102M</td>\n",
       "    </tr>\n",
       "  </tbody>\n",
       "</table>\n",
       "</div>"
      ],
      "text/plain": [
       "       ID               Name  Age Age Range    Wage    Value\n",
       "0  158023           L. Messi   31     31-35  565000  €110.5M\n",
       "1   20801  Cristiano Ronaldo   33     31-35  405000     €77M\n",
       "2  190871          Neymar Jr   26     26-30  290000  €118.5M\n",
       "3  193080             De Gea   27     26-30  260000     €72M\n",
       "4  192985       K. De Bruyne   27     26-30  355000    €102M"
      ]
     },
     "execution_count": 12,
     "metadata": {},
     "output_type": "execute_result"
    }
   ],
   "source": [
    "#creating a new df\n",
    "age_range_df = pd.DataFrame(new_df)\n",
    "age_range_df['Age Range'] = pd.cut(age_range_df[\"Age\"],age_bins,labels = age_groups)\n",
    "age_range_df = age_range_df[['ID','Name','Age','Age Range','Wage','Value']]\n",
    "\n",
    "age_range_df.head()"
   ]
  },
  {
   "cell_type": "code",
   "execution_count": 13,
   "metadata": {},
   "outputs": [
    {
     "data": {
      "text/html": [
       "<div>\n",
       "<style scoped>\n",
       "    .dataframe tbody tr th:only-of-type {\n",
       "        vertical-align: middle;\n",
       "    }\n",
       "\n",
       "    .dataframe tbody tr th {\n",
       "        vertical-align: top;\n",
       "    }\n",
       "\n",
       "    .dataframe thead th {\n",
       "        text-align: right;\n",
       "    }\n",
       "</style>\n",
       "<table border=\"1\" class=\"dataframe\">\n",
       "  <thead>\n",
       "    <tr style=\"text-align: right;\">\n",
       "      <th></th>\n",
       "      <th>ID</th>\n",
       "      <th>Name</th>\n",
       "      <th>Age</th>\n",
       "      <th>Wage</th>\n",
       "      <th>Value</th>\n",
       "      <th>Total Wage</th>\n",
       "    </tr>\n",
       "    <tr>\n",
       "      <th>Age Range</th>\n",
       "      <th></th>\n",
       "      <th></th>\n",
       "      <th></th>\n",
       "      <th></th>\n",
       "      <th></th>\n",
       "      <th></th>\n",
       "    </tr>\n",
       "  </thead>\n",
       "  <tbody>\n",
       "    <tr>\n",
       "      <th>&lt;20</th>\n",
       "      <td>3304</td>\n",
       "      <td>3304</td>\n",
       "      <td>3304</td>\n",
       "      <td>3304</td>\n",
       "      <td>3304</td>\n",
       "      <td>11006000</td>\n",
       "    </tr>\n",
       "    <tr>\n",
       "      <th>21-25</th>\n",
       "      <td>6666</td>\n",
       "      <td>6666</td>\n",
       "      <td>6666</td>\n",
       "      <td>6666</td>\n",
       "      <td>6666</td>\n",
       "      <td>59129000</td>\n",
       "    </tr>\n",
       "    <tr>\n",
       "      <th>26-30</th>\n",
       "      <td>5412</td>\n",
       "      <td>5412</td>\n",
       "      <td>5412</td>\n",
       "      <td>5412</td>\n",
       "      <td>5412</td>\n",
       "      <td>74777000</td>\n",
       "    </tr>\n",
       "    <tr>\n",
       "      <th>31-35</th>\n",
       "      <td>2247</td>\n",
       "      <td>2247</td>\n",
       "      <td>2247</td>\n",
       "      <td>2247</td>\n",
       "      <td>2247</td>\n",
       "      <td>30427000</td>\n",
       "    </tr>\n",
       "    <tr>\n",
       "      <th>36-40</th>\n",
       "      <td>281</td>\n",
       "      <td>281</td>\n",
       "      <td>281</td>\n",
       "      <td>281</td>\n",
       "      <td>281</td>\n",
       "      <td>1737000</td>\n",
       "    </tr>\n",
       "    <tr>\n",
       "      <th>&gt;40</th>\n",
       "      <td>8</td>\n",
       "      <td>8</td>\n",
       "      <td>8</td>\n",
       "      <td>8</td>\n",
       "      <td>8</td>\n",
       "      <td>21000</td>\n",
       "    </tr>\n",
       "  </tbody>\n",
       "</table>\n",
       "</div>"
      ],
      "text/plain": [
       "             ID  Name   Age  Wage  Value  Total Wage\n",
       "Age Range                                           \n",
       "<20        3304  3304  3304  3304   3304    11006000\n",
       "21-25      6666  6666  6666  6666   6666    59129000\n",
       "26-30      5412  5412  5412  5412   5412    74777000\n",
       "31-35      2247  2247  2247  2247   2247    30427000\n",
       "36-40       281   281   281   281    281     1737000\n",
       ">40           8     8     8     8      8       21000"
      ]
     },
     "execution_count": 13,
     "metadata": {},
     "output_type": "execute_result"
    }
   ],
   "source": [
    "age_analysis_df = pd.DataFrame(age_range_df.groupby(['Age Range']).count())\n",
    "\n",
    "age_analysis_df['Total Wage'] = age_range_df.groupby(['Age Range'])[['Wage']].sum()\n",
    "age_analysis_df"
   ]
  },
  {
   "cell_type": "code",
   "execution_count": 14,
   "metadata": {},
   "outputs": [
    {
     "data": {
      "text/plain": [
       "74777000"
      ]
     },
     "execution_count": 14,
     "metadata": {},
     "output_type": "execute_result"
    }
   ],
   "source": [
    "age_analysis_df['Total Wage'].max()"
   ]
  },
  {
   "cell_type": "code",
   "execution_count": 15,
   "metadata": {},
   "outputs": [
    {
     "data": {
      "text/plain": [
       "21000"
      ]
     },
     "execution_count": 15,
     "metadata": {},
     "output_type": "execute_result"
    }
   ],
   "source": [
    "age_analysis_df['Total Wage'].min()"
   ]
  },
  {
   "cell_type": "code",
   "execution_count": 16,
   "metadata": {},
   "outputs": [
    {
     "data": {
      "image/png": "[encoded data removed]",
      "text/plain": [
       "<Figure size 432x288 with 1 Axes>"
      ]
     },
     "metadata": {
      "needs_background": "light"
     },
     "output_type": "display_data"
    }
   ],
   "source": [
    "# Age Range analysis\n",
    "Age_player=age_analysis_df.index\n",
    "Player_wage=age_analysis_df['Total Wage']\n",
    "x_axis=np.arange(len(Age_player))\n",
    "plt.bar(x_axis, Player_wage, color=('red'),  align=\"center\")\n",
    "tick_locations = [value for value in x_axis]\n",
    "plt.xticks(tick_locations, Age_player)\n",
    "plt.yticks([1000000,10000000,20000000,30000000,40000000,50000000,60000000,70000000,80000000])\n",
    "#plt.grid(axis='y')\n",
    "plt.grid()\n",
    "\n",
    "plt.title(\"Age Range Vs Player's Wage\")\n",
    "plt.ylabel('Wage(in 10 million)')\n",
    "plt.xlabel('Age Range')\n",
    "plt.savefig('Wage.png')"
   ]
  },
  {
   "cell_type": "code",
   "execution_count": null,
   "metadata": {},
   "outputs": [],
   "source": []
  },
  {
   "cell_type": "code",
   "execution_count": 17,
   "metadata": {},
   "outputs": [
    {
     "data": {
      "text/html": [
       "<div>\n",
       "<style scoped>\n",
       "    .dataframe tbody tr th:only-of-type {\n",
       "        vertical-align: middle;\n",
       "    }\n",
       "\n",
       "    .dataframe tbody tr th {\n",
       "        vertical-align: top;\n",
       "    }\n",
       "\n",
       "    .dataframe thead th {\n",
       "        text-align: right;\n",
       "    }\n",
       "</style>\n",
       "<table border=\"1\" class=\"dataframe\">\n",
       "  <thead>\n",
       "    <tr style=\"text-align: right;\">\n",
       "      <th></th>\n",
       "      <th>Nationality</th>\n",
       "      <th>ID</th>\n",
       "    </tr>\n",
       "  </thead>\n",
       "  <tbody>\n",
       "    <tr>\n",
       "      <th>0</th>\n",
       "      <td>Afghanistan</td>\n",
       "      <td>4</td>\n",
       "    </tr>\n",
       "    <tr>\n",
       "      <th>1</th>\n",
       "      <td>Albania</td>\n",
       "      <td>39</td>\n",
       "    </tr>\n",
       "    <tr>\n",
       "      <th>2</th>\n",
       "      <td>Algeria</td>\n",
       "      <td>60</td>\n",
       "    </tr>\n",
       "    <tr>\n",
       "      <th>3</th>\n",
       "      <td>Andorra</td>\n",
       "      <td>1</td>\n",
       "    </tr>\n",
       "    <tr>\n",
       "      <th>4</th>\n",
       "      <td>Angola</td>\n",
       "      <td>15</td>\n",
       "    </tr>\n",
       "  </tbody>\n",
       "</table>\n",
       "</div>"
      ],
      "text/plain": [
       "   Nationality  ID\n",
       "0  Afghanistan   4\n",
       "1      Albania  39\n",
       "2      Algeria  60\n",
       "3      Andorra   1\n",
       "4       Angola  15"
      ]
     },
     "execution_count": 17,
     "metadata": {},
     "output_type": "execute_result"
    }
   ],
   "source": [
    "# Country/ nationality Analysis\n",
    "\n",
    "country_analysis_df = pd.DataFrame(new_df.groupby(['Nationality'])[['ID']].count()).reset_index()\n",
    "country_analysis_df.head()"
   ]
  },
  {
   "cell_type": "code",
   "execution_count": 98,
   "metadata": {},
   "outputs": [],
   "source": [
    "#Converting 'Players count - grouped(ID)' to integer\n",
    "country_analysis_df['Players_count'] = country_analysis_df['ID'].astype(int)\n",
    "country_analysis_df['Players_countFew'] = country_analysis_df['ID'].astype(int)"
   ]
  },
  {
   "cell_type": "code",
   "execution_count": 99,
   "metadata": {},
   "outputs": [
    {
     "data": {
      "text/html": [
       "<div>\n",
       "<style scoped>\n",
       "    .dataframe tbody tr th:only-of-type {\n",
       "        vertical-align: middle;\n",
       "    }\n",
       "\n",
       "    .dataframe tbody tr th {\n",
       "        vertical-align: top;\n",
       "    }\n",
       "\n",
       "    .dataframe thead th {\n",
       "        text-align: right;\n",
       "    }\n",
       "</style>\n",
       "<table border=\"1\" class=\"dataframe\">\n",
       "  <thead>\n",
       "    <tr style=\"text-align: right;\">\n",
       "      <th></th>\n",
       "      <th>Nationality</th>\n",
       "      <th>ID</th>\n",
       "      <th>Players_count</th>\n",
       "      <th>Latitude</th>\n",
       "      <th>Longitude</th>\n",
       "      <th>Players_countFew</th>\n",
       "    </tr>\n",
       "  </thead>\n",
       "  <tbody>\n",
       "    <tr>\n",
       "      <th>6</th>\n",
       "      <td>Argentina</td>\n",
       "      <td>935</td>\n",
       "      <td>935</td>\n",
       "      <td>-38.416097</td>\n",
       "      <td>-63.616672</td>\n",
       "      <td>935</td>\n",
       "    </tr>\n",
       "    <tr>\n",
       "      <th>8</th>\n",
       "      <td>Australia</td>\n",
       "      <td>234</td>\n",
       "      <td>234</td>\n",
       "      <td>-25.274398</td>\n",
       "      <td>133.775136</td>\n",
       "      <td>234</td>\n",
       "    </tr>\n",
       "    <tr>\n",
       "      <th>9</th>\n",
       "      <td>Austria</td>\n",
       "      <td>296</td>\n",
       "      <td>296</td>\n",
       "      <td>47.516231</td>\n",
       "      <td>14.550072</td>\n",
       "      <td>296</td>\n",
       "    </tr>\n",
       "    <tr>\n",
       "      <th>13</th>\n",
       "      <td>Belgium</td>\n",
       "      <td>259</td>\n",
       "      <td>259</td>\n",
       "      <td>50.503887</td>\n",
       "      <td>4.469936</td>\n",
       "      <td>259</td>\n",
       "    </tr>\n",
       "    <tr>\n",
       "      <th>20</th>\n",
       "      <td>Brazil</td>\n",
       "      <td>825</td>\n",
       "      <td>825</td>\n",
       "      <td>-14.235004</td>\n",
       "      <td>-51.925280</td>\n",
       "      <td>825</td>\n",
       "    </tr>\n",
       "  </tbody>\n",
       "</table>\n",
       "</div>"
      ],
      "text/plain": [
       "   Nationality   ID  Players_count   Latitude   Longitude  Players_countFew\n",
       "6    Argentina  935            935 -38.416097  -63.616672               935\n",
       "8    Australia  234            234 -25.274398  133.775136               234\n",
       "9      Austria  296            296  47.516231   14.550072               296\n",
       "13     Belgium  259            259  50.503887    4.469936               259\n",
       "20      Brazil  825            825 -14.235004  -51.925280               825"
      ]
     },
     "execution_count": 99,
     "metadata": {},
     "output_type": "execute_result"
    }
   ],
   "source": [
    "country_analysis_df['Players_count'] = country_analysis_df['Players_count'].apply(lambda x: x if x > 100 else 0)\n",
    "country_analysis_df = country_analysis_df[country_analysis_df.Players_count != 0]\n",
    "country_analysis_df.head()"
   ]
  },
  {
   "cell_type": "code",
   "execution_count": 22,
   "metadata": {},
   "outputs": [
    {
     "data": {
      "image/png": "[encoded data removed]",
      "text/plain": [
       "<Figure size 1800x1080 with 1 Axes>"
      ]
     },
     "metadata": {
      "needs_background": "light"
     },
     "output_type": "display_data"
    }
   ],
   "source": [
    "# Set x axis and tick locations\n",
    "x_axis = np.arange(len(country_analysis_df))\n",
    "tick_locations = [value+0.4 for value in x_axis]\n",
    "\n",
    "# Create a list indicating where to write x labels and set figure size to adjust for space\n",
    "plt.figure(figsize=(25,15))\n",
    "plt.bar(x_axis, country_analysis_df[\"Players_count\"], color='r', align=\"edge\")\n",
    "plt.xticks(tick_locations, country_analysis_df[\"Nationality\"], rotation=\"vertical\",fontsize=16)\n",
    "plt.title(\"Countries with >100 players\",fontsize=20)\n",
    "plt.ylabel('Number of Players',fontsize=16)\n",
    "plt.xlabel('Countries with more than 100 Players',fontsize=16)\n",
    "plt.savefig('Countries.png')"
   ]
  },
  {
   "cell_type": "code",
   "execution_count": 23,
   "metadata": {},
   "outputs": [],
   "source": [
    "# Make Google API call reuqest and store the coordinates of each country\n",
    "\n",
    "def getLatLng(country): \n",
    "    # Target country\n",
    "    target_country = country\n",
    "\n",
    "    # Build the endpoint URL\n",
    "    target_url = ('https://maps.googleapis.com/maps/api/geocode/json?'\n",
    "                  'address={0}&key={1}').format(target_country, gkey)\n",
    "    \n",
    "    # Run a request to endpoint and convert result to json\n",
    "    geo_data = requests.get(target_url).json()\n",
    "\n",
    "    # Extract latitude and longitude\n",
    "    lat = geo_data[\"results\"][0][\"geometry\"][\"location\"][\"lat\"]\n",
    "    lng = geo_data[\"results\"][0][\"geometry\"][\"location\"][\"lng\"]\n",
    "    return lat,lng; "
   ]
  },
  {
   "cell_type": "code",
   "execution_count": 26,
   "metadata": {},
   "outputs": [
    {
     "data": {
      "text/html": [
       "<div>\n",
       "<style scoped>\n",
       "    .dataframe tbody tr th:only-of-type {\n",
       "        vertical-align: middle;\n",
       "    }\n",
       "\n",
       "    .dataframe tbody tr th {\n",
       "        vertical-align: top;\n",
       "    }\n",
       "\n",
       "    .dataframe thead th {\n",
       "        text-align: right;\n",
       "    }\n",
       "</style>\n",
       "<table border=\"1\" class=\"dataframe\">\n",
       "  <thead>\n",
       "    <tr style=\"text-align: right;\">\n",
       "      <th></th>\n",
       "      <th>Nationality</th>\n",
       "      <th>ID</th>\n",
       "      <th>Players_count</th>\n",
       "      <th>Latitude</th>\n",
       "      <th>Longitude</th>\n",
       "    </tr>\n",
       "  </thead>\n",
       "  <tbody>\n",
       "    <tr>\n",
       "      <th>6</th>\n",
       "      <td>Argentina</td>\n",
       "      <td>935</td>\n",
       "      <td>935</td>\n",
       "      <td>-38.416097</td>\n",
       "      <td>-63.616672</td>\n",
       "    </tr>\n",
       "    <tr>\n",
       "      <th>8</th>\n",
       "      <td>Australia</td>\n",
       "      <td>234</td>\n",
       "      <td>234</td>\n",
       "      <td>-25.274398</td>\n",
       "      <td>133.775136</td>\n",
       "    </tr>\n",
       "    <tr>\n",
       "      <th>9</th>\n",
       "      <td>Austria</td>\n",
       "      <td>296</td>\n",
       "      <td>296</td>\n",
       "      <td>47.516231</td>\n",
       "      <td>14.550072</td>\n",
       "    </tr>\n",
       "    <tr>\n",
       "      <th>13</th>\n",
       "      <td>Belgium</td>\n",
       "      <td>259</td>\n",
       "      <td>259</td>\n",
       "      <td>50.503887</td>\n",
       "      <td>4.469936</td>\n",
       "    </tr>\n",
       "    <tr>\n",
       "      <th>20</th>\n",
       "      <td>Brazil</td>\n",
       "      <td>825</td>\n",
       "      <td>825</td>\n",
       "      <td>-14.235004</td>\n",
       "      <td>-51.925280</td>\n",
       "    </tr>\n",
       "  </tbody>\n",
       "</table>\n",
       "</div>"
      ],
      "text/plain": [
       "   Nationality   ID  Players_count   Latitude   Longitude\n",
       "6    Argentina  935            935 -38.416097  -63.616672\n",
       "8    Australia  234            234 -25.274398  133.775136\n",
       "9      Austria  296            296  47.516231   14.550072\n",
       "13     Belgium  259            259  50.503887    4.469936\n",
       "20      Brazil  825            825 -14.235004  -51.925280"
      ]
     },
     "execution_count": 26,
     "metadata": {},
     "output_type": "execute_result"
    }
   ],
   "source": [
    "# Add Latitude and Logitude columns to the DF\n",
    "\n",
    "for i, row in country_analysis_df.iterrows():\n",
    "    lat, lng = getLatLng(row['Nationality'])\n",
    "    #print(row['Nationality'], lat, lng)\n",
    "    country_analysis_df.at[i, 'Latitude'] = lat\n",
    "    country_analysis_df.at[i, 'Longitude'] = lng\n",
    "country_analysis_df.head()   "
   ]
  },
  {
   "cell_type": "code",
   "execution_count": 27,
   "metadata": {},
   "outputs": [],
   "source": [
    "# Create a GMap\n",
    "\n",
    "subset = country_analysis_df[['Latitude', 'Longitude']]\n",
    "tuples = [tuple(x) for x in subset.values]"
   ]
  },
  {
   "cell_type": "code",
   "execution_count": 28,
   "metadata": {},
   "outputs": [
    {
     "data": {
      "application/vnd.jupyter.widget-view+json": {
       "model_id": "368ed7560e9c4350b5589c7c94344e5a",
       "version_major": 2,
       "version_minor": 0
      },
      "text/plain": [
       "Figure(layout=FigureLayout(border='1px solid black', height='300px', margin='0 auto 0 auto', padding='1px', wi…"
      ]
     },
     "metadata": {},
     "output_type": "display_data"
    }
   ],
   "source": [
    "# Customize the size of the figure\n",
    "figure_layout = {\n",
    "    'width': '400px',\n",
    "    'height': '300px',\n",
    "    'border': '1px solid black',\n",
    "    'padding': '1px',\n",
    "    'margin': '0 auto 0 auto'\n",
    "}\n",
    "fig = gmaps.figure(layout=figure_layout)\n",
    "\n",
    "# Assign the marker layer to a variable\n",
    "markers = gmaps.marker_layer(tuples)\n",
    "# Add the layer to the map\n",
    "fig.add_layer(markers)\n",
    "fig"
   ]
  },
  {
   "cell_type": "markdown",
   "metadata": {},
   "source": [
    "# Selvi"
   ]
  },
  {
   "cell_type": "code",
   "execution_count": 29,
   "metadata": {},
   "outputs": [
    {
     "data": {
      "text/html": [
       "<div>\n",
       "<style scoped>\n",
       "    .dataframe tbody tr th:only-of-type {\n",
       "        vertical-align: middle;\n",
       "    }\n",
       "\n",
       "    .dataframe tbody tr th {\n",
       "        vertical-align: top;\n",
       "    }\n",
       "\n",
       "    .dataframe thead th {\n",
       "        text-align: right;\n",
       "    }\n",
       "</style>\n",
       "<table border=\"1\" class=\"dataframe\">\n",
       "  <thead>\n",
       "    <tr style=\"text-align: right;\">\n",
       "      <th></th>\n",
       "      <th>Unnamed: 0</th>\n",
       "      <th>ID</th>\n",
       "      <th>Name</th>\n",
       "      <th>Age</th>\n",
       "      <th>Photo</th>\n",
       "      <th>Nationality</th>\n",
       "      <th>Flag</th>\n",
       "      <th>Overall</th>\n",
       "      <th>Potential</th>\n",
       "      <th>Club</th>\n",
       "      <th>...</th>\n",
       "      <th>Composure</th>\n",
       "      <th>Marking</th>\n",
       "      <th>StandingTackle</th>\n",
       "      <th>SlidingTackle</th>\n",
       "      <th>GKDiving</th>\n",
       "      <th>GKHandling</th>\n",
       "      <th>GKKicking</th>\n",
       "      <th>GKPositioning</th>\n",
       "      <th>GKReflexes</th>\n",
       "      <th>Age Range</th>\n",
       "    </tr>\n",
       "  </thead>\n",
       "  <tbody>\n",
       "    <tr>\n",
       "      <th>0</th>\n",
       "      <td>0</td>\n",
       "      <td>158023</td>\n",
       "      <td>L. Messi</td>\n",
       "      <td>31</td>\n",
       "      <td>https://cdn.sofifa.org/players/4/19/158023.png</td>\n",
       "      <td>Argentina</td>\n",
       "      <td>https://cdn.sofifa.org/flags/52.png</td>\n",
       "      <td>94</td>\n",
       "      <td>94</td>\n",
       "      <td>FC Barcelona</td>\n",
       "      <td>...</td>\n",
       "      <td>96.0</td>\n",
       "      <td>33.0</td>\n",
       "      <td>28.0</td>\n",
       "      <td>26.0</td>\n",
       "      <td>6.0</td>\n",
       "      <td>11.0</td>\n",
       "      <td>15.0</td>\n",
       "      <td>14.0</td>\n",
       "      <td>8.0</td>\n",
       "      <td>31-35</td>\n",
       "    </tr>\n",
       "    <tr>\n",
       "      <th>1</th>\n",
       "      <td>1</td>\n",
       "      <td>20801</td>\n",
       "      <td>Cristiano Ronaldo</td>\n",
       "      <td>33</td>\n",
       "      <td>https://cdn.sofifa.org/players/4/19/20801.png</td>\n",
       "      <td>Portugal</td>\n",
       "      <td>https://cdn.sofifa.org/flags/38.png</td>\n",
       "      <td>94</td>\n",
       "      <td>94</td>\n",
       "      <td>Juventus</td>\n",
       "      <td>...</td>\n",
       "      <td>95.0</td>\n",
       "      <td>28.0</td>\n",
       "      <td>31.0</td>\n",
       "      <td>23.0</td>\n",
       "      <td>7.0</td>\n",
       "      <td>11.0</td>\n",
       "      <td>15.0</td>\n",
       "      <td>14.0</td>\n",
       "      <td>11.0</td>\n",
       "      <td>31-35</td>\n",
       "    </tr>\n",
       "    <tr>\n",
       "      <th>2</th>\n",
       "      <td>2</td>\n",
       "      <td>190871</td>\n",
       "      <td>Neymar Jr</td>\n",
       "      <td>26</td>\n",
       "      <td>https://cdn.sofifa.org/players/4/19/190871.png</td>\n",
       "      <td>Brazil</td>\n",
       "      <td>https://cdn.sofifa.org/flags/54.png</td>\n",
       "      <td>92</td>\n",
       "      <td>93</td>\n",
       "      <td>Paris Saint-Germain</td>\n",
       "      <td>...</td>\n",
       "      <td>94.0</td>\n",
       "      <td>27.0</td>\n",
       "      <td>24.0</td>\n",
       "      <td>33.0</td>\n",
       "      <td>9.0</td>\n",
       "      <td>9.0</td>\n",
       "      <td>15.0</td>\n",
       "      <td>15.0</td>\n",
       "      <td>11.0</td>\n",
       "      <td>26-30</td>\n",
       "    </tr>\n",
       "    <tr>\n",
       "      <th>3</th>\n",
       "      <td>3</td>\n",
       "      <td>193080</td>\n",
       "      <td>De Gea</td>\n",
       "      <td>27</td>\n",
       "      <td>https://cdn.sofifa.org/players/4/19/193080.png</td>\n",
       "      <td>Spain</td>\n",
       "      <td>https://cdn.sofifa.org/flags/45.png</td>\n",
       "      <td>91</td>\n",
       "      <td>93</td>\n",
       "      <td>Manchester United</td>\n",
       "      <td>...</td>\n",
       "      <td>68.0</td>\n",
       "      <td>15.0</td>\n",
       "      <td>21.0</td>\n",
       "      <td>13.0</td>\n",
       "      <td>90.0</td>\n",
       "      <td>85.0</td>\n",
       "      <td>87.0</td>\n",
       "      <td>88.0</td>\n",
       "      <td>94.0</td>\n",
       "      <td>26-30</td>\n",
       "    </tr>\n",
       "    <tr>\n",
       "      <th>4</th>\n",
       "      <td>4</td>\n",
       "      <td>192985</td>\n",
       "      <td>K. De Bruyne</td>\n",
       "      <td>27</td>\n",
       "      <td>https://cdn.sofifa.org/players/4/19/192985.png</td>\n",
       "      <td>Belgium</td>\n",
       "      <td>https://cdn.sofifa.org/flags/7.png</td>\n",
       "      <td>91</td>\n",
       "      <td>92</td>\n",
       "      <td>Manchester City</td>\n",
       "      <td>...</td>\n",
       "      <td>88.0</td>\n",
       "      <td>68.0</td>\n",
       "      <td>58.0</td>\n",
       "      <td>51.0</td>\n",
       "      <td>15.0</td>\n",
       "      <td>13.0</td>\n",
       "      <td>5.0</td>\n",
       "      <td>10.0</td>\n",
       "      <td>13.0</td>\n",
       "      <td>26-30</td>\n",
       "    </tr>\n",
       "  </tbody>\n",
       "</table>\n",
       "<p>5 rows × 61 columns</p>\n",
       "</div>"
      ],
      "text/plain": [
       "   Unnamed: 0      ID               Name  Age  \\\n",
       "0           0  158023           L. Messi   31   \n",
       "1           1   20801  Cristiano Ronaldo   33   \n",
       "2           2  190871          Neymar Jr   26   \n",
       "3           3  193080             De Gea   27   \n",
       "4           4  192985       K. De Bruyne   27   \n",
       "\n",
       "                                            Photo Nationality  \\\n",
       "0  https://cdn.sofifa.org/players/4/19/158023.png   Argentina   \n",
       "1   https://cdn.sofifa.org/players/4/19/20801.png    Portugal   \n",
       "2  https://cdn.sofifa.org/players/4/19/190871.png      Brazil   \n",
       "3  https://cdn.sofifa.org/players/4/19/193080.png       Spain   \n",
       "4  https://cdn.sofifa.org/players/4/19/192985.png     Belgium   \n",
       "\n",
       "                                  Flag  Overall  Potential  \\\n",
       "0  https://cdn.sofifa.org/flags/52.png       94         94   \n",
       "1  https://cdn.sofifa.org/flags/38.png       94         94   \n",
       "2  https://cdn.sofifa.org/flags/54.png       92         93   \n",
       "3  https://cdn.sofifa.org/flags/45.png       91         93   \n",
       "4   https://cdn.sofifa.org/flags/7.png       91         92   \n",
       "\n",
       "                  Club  ... Composure Marking  StandingTackle  SlidingTackle  \\\n",
       "0         FC Barcelona  ...      96.0    33.0            28.0           26.0   \n",
       "1             Juventus  ...      95.0    28.0            31.0           23.0   \n",
       "2  Paris Saint-Germain  ...      94.0    27.0            24.0           33.0   \n",
       "3    Manchester United  ...      68.0    15.0            21.0           13.0   \n",
       "4      Manchester City  ...      88.0    68.0            58.0           51.0   \n",
       "\n",
       "  GKDiving  GKHandling  GKKicking  GKPositioning GKReflexes Age Range  \n",
       "0      6.0        11.0       15.0           14.0        8.0     31-35  \n",
       "1      7.0        11.0       15.0           14.0       11.0     31-35  \n",
       "2      9.0         9.0       15.0           15.0       11.0     26-30  \n",
       "3     90.0        85.0       87.0           88.0       94.0     26-30  \n",
       "4     15.0        13.0        5.0           10.0       13.0     26-30  \n",
       "\n",
       "[5 rows x 61 columns]"
      ]
     },
     "execution_count": 29,
     "metadata": {},
     "output_type": "execute_result"
    }
   ],
   "source": [
    "sorted_overall=new_df.sort_values('Overall', ascending=False )\n",
    "sorted_potential=new_df.sort_values('Potential', ascending=False)\n",
    "sorted_age=new_df.sort_values('Age', ascending=False,)\n",
    "sorted_overall.head()"
   ]
  },
  {
   "cell_type": "code",
   "execution_count": 30,
   "metadata": {},
   "outputs": [
    {
     "data": {
      "image/png": "[encoded data removed]",
      "text/plain": [
       "<Figure size 432x288 with 1 Axes>"
      ]
     },
     "metadata": {
      "needs_background": "light"
     },
     "output_type": "display_data"
    }
   ],
   "source": [
    "#histogram number of players and their overall ranking\n",
    "sorted_overall['Overall'].hist(bins=100)\n",
    "plt.xlabel(\"Player's Overall Ranking\", fontsize=15)\n",
    "plt.ylabel(\"Number of Players\",fontsize=15)\n",
    "plt.savefig('overall_ranking.png')"
   ]
  },
  {
   "cell_type": "code",
   "execution_count": 31,
   "metadata": {},
   "outputs": [
    {
     "data": {
      "image/png": "[encoded data removed]",
      "text/plain": [
       "<Figure size 432x288 with 1 Axes>"
      ]
     },
     "metadata": {
      "needs_background": "light"
     },
     "output_type": "display_data"
    }
   ],
   "source": [
    "#histogram number of players and their potential ranking\n",
    "sorted_potential['Potential'].hist(bins=100)\n",
    "plt.xlabel(\"Player's Potential Ranking\", fontsize=15)\n",
    "plt.ylabel(\"Number of Players\",fontsize=15)\n",
    "plt.savefig('potential_ranking.png')"
   ]
  },
  {
   "cell_type": "code",
   "execution_count": 32,
   "metadata": {},
   "outputs": [
    {
     "data": {
      "image/png": "[encoded data removed]",
      "text/plain": [
       "<Figure size 432x288 with 1 Axes>"
      ]
     },
     "metadata": {
      "needs_background": "light"
     },
     "output_type": "display_data"
    }
   ],
   "source": [
    "#Age distribution of the players\n",
    "sns.distplot(sorted_age['Age'], kde=False, color='green', bins=100)\n",
    "#plt.title(\"Player's Age\", fontsize=18)\n",
    "plt.xlabel('Age of Players', fontsize=16)\n",
    "plt.ylabel('Number of Players', fontsize=16)\n",
    "plt.savefig('age_distribution.png')"
   ]
  },
  {
   "cell_type": "code",
   "execution_count": 33,
   "metadata": {},
   "outputs": [],
   "source": [
    "#creating a dictionary & new df to hold Megan and Messi's statistics\n",
    "player_stat_data={'Name':['Megan', 'Messi'],\n",
    "             'Matches_Played':[5,4],\n",
    "             'Goals_Scored':[6,1],\n",
    "             'Penalties_Scored':[3,0],\n",
    "             'Assists': [3,2],\n",
    "             'Corners':[16,2],\n",
    "             'Shots_Blocked':[3,8],\n",
    "             'Fouls_Commited':[4,4]}\n",
    "player_stat2={'Name':['Megan', 'Messi'],\n",
    "              'Minutes_Played':[428,360],\n",
    "              'Distance_Coveredkm':[42.3, 31.6]}\n",
    "player_info={'Name':['Megan', 'Messi'],\n",
    "             'Age':[34,32],\n",
    "             'Height':[167,170],\n",
    "             'International_Captains':[158,136],\n",
    "             'International_Goals':[50,65]}\n",
    "player_salary={'Name':['Megan', 'Messi'],\n",
    "              'Salary($)':[400000,44000000]}"
   ]
  },
  {
   "cell_type": "code",
   "execution_count": 35,
   "metadata": {},
   "outputs": [
    {
     "data": {
      "text/html": [
       "<div>\n",
       "<style scoped>\n",
       "    .dataframe tbody tr th:only-of-type {\n",
       "        vertical-align: middle;\n",
       "    }\n",
       "\n",
       "    .dataframe tbody tr th {\n",
       "        vertical-align: top;\n",
       "    }\n",
       "\n",
       "    .dataframe thead th {\n",
       "        text-align: right;\n",
       "    }\n",
       "</style>\n",
       "<table border=\"1\" class=\"dataframe\">\n",
       "  <thead>\n",
       "    <tr style=\"text-align: right;\">\n",
       "      <th></th>\n",
       "      <th>Name</th>\n",
       "      <th>Matches_Played</th>\n",
       "      <th>Goals_Scored</th>\n",
       "      <th>Penalties_Scored</th>\n",
       "      <th>Assists</th>\n",
       "      <th>Corners</th>\n",
       "      <th>Shots_Blocked</th>\n",
       "      <th>Fouls_Commited</th>\n",
       "    </tr>\n",
       "  </thead>\n",
       "  <tbody>\n",
       "    <tr>\n",
       "      <th>0</th>\n",
       "      <td>Megan</td>\n",
       "      <td>5</td>\n",
       "      <td>6</td>\n",
       "      <td>3</td>\n",
       "      <td>3</td>\n",
       "      <td>16</td>\n",
       "      <td>3</td>\n",
       "      <td>4</td>\n",
       "    </tr>\n",
       "    <tr>\n",
       "      <th>1</th>\n",
       "      <td>Messi</td>\n",
       "      <td>4</td>\n",
       "      <td>1</td>\n",
       "      <td>0</td>\n",
       "      <td>2</td>\n",
       "      <td>2</td>\n",
       "      <td>8</td>\n",
       "      <td>4</td>\n",
       "    </tr>\n",
       "  </tbody>\n",
       "</table>\n",
       "</div>"
      ],
      "text/plain": [
       "    Name  Matches_Played  Goals_Scored  Penalties_Scored  Assists  Corners  \\\n",
       "0  Megan               5             6                 3        3       16   \n",
       "1  Messi               4             1                 0        2        2   \n",
       "\n",
       "   Shots_Blocked  Fouls_Commited  \n",
       "0              3               4  \n",
       "1              8               4  "
      ]
     },
     "execution_count": 35,
     "metadata": {},
     "output_type": "execute_result"
    }
   ],
   "source": [
    "player_stat_df = pd.DataFrame(player_stat_data) \n",
    "player_stat2=pd.DataFrame(player_stat2)\n",
    "player_info_df=pd.DataFrame(player_info)\n",
    "player_salary_df=pd.DataFrame(player_salary)\n",
    "player_stat_df"
   ]
  },
  {
   "cell_type": "code",
   "execution_count": 36,
   "metadata": {},
   "outputs": [
    {
     "data": {
      "text/html": [
       "<div>\n",
       "<style scoped>\n",
       "    .dataframe tbody tr th:only-of-type {\n",
       "        vertical-align: middle;\n",
       "    }\n",
       "\n",
       "    .dataframe tbody tr th {\n",
       "        vertical-align: top;\n",
       "    }\n",
       "\n",
       "    .dataframe thead th {\n",
       "        text-align: right;\n",
       "    }\n",
       "</style>\n",
       "<table border=\"1\" class=\"dataframe\">\n",
       "  <thead>\n",
       "    <tr style=\"text-align: right;\">\n",
       "      <th>Name</th>\n",
       "      <th>Megan</th>\n",
       "      <th>Messi</th>\n",
       "    </tr>\n",
       "  </thead>\n",
       "  <tbody>\n",
       "    <tr>\n",
       "      <th>Assists</th>\n",
       "      <td>3</td>\n",
       "      <td>2</td>\n",
       "    </tr>\n",
       "    <tr>\n",
       "      <th>Corners</th>\n",
       "      <td>16</td>\n",
       "      <td>2</td>\n",
       "    </tr>\n",
       "    <tr>\n",
       "      <th>Fouls_Commited</th>\n",
       "      <td>4</td>\n",
       "      <td>4</td>\n",
       "    </tr>\n",
       "    <tr>\n",
       "      <th>Goals_Scored</th>\n",
       "      <td>6</td>\n",
       "      <td>1</td>\n",
       "    </tr>\n",
       "    <tr>\n",
       "      <th>Matches_Played</th>\n",
       "      <td>5</td>\n",
       "      <td>4</td>\n",
       "    </tr>\n",
       "    <tr>\n",
       "      <th>Penalties_Scored</th>\n",
       "      <td>3</td>\n",
       "      <td>0</td>\n",
       "    </tr>\n",
       "    <tr>\n",
       "      <th>Shots_Blocked</th>\n",
       "      <td>3</td>\n",
       "      <td>8</td>\n",
       "    </tr>\n",
       "  </tbody>\n",
       "</table>\n",
       "</div>"
      ],
      "text/plain": [
       "Name              Megan  Messi\n",
       "Assists               3      2\n",
       "Corners              16      2\n",
       "Fouls_Commited        4      4\n",
       "Goals_Scored          6      1\n",
       "Matches_Played        5      4\n",
       "Penalties_Scored      3      0\n",
       "Shots_Blocked         3      8"
      ]
     },
     "execution_count": 36,
     "metadata": {},
     "output_type": "execute_result"
    }
   ],
   "source": [
    "#pivoting the table to make it easy to plot\n",
    "pivot_stat_df = player_stat_df.pivot_table(columns='Name')\n",
    "pivot_stat2 = player_stat2.pivot_table(columns='Name')\n",
    "pivot_info_df = player_info_df.pivot_table(columns='Name')\n",
    "pivot_salary_df = player_salary_df.pivot_table(columns='Name')\n",
    "pivot_stat_df"
   ]
  },
  {
   "cell_type": "code",
   "execution_count": 37,
   "metadata": {},
   "outputs": [
    {
     "data": {
      "image/png": "[encoded data removed]",
      "text/plain": [
       "<Figure size 432x288 with 1 Axes>"
      ]
     },
     "metadata": {
      "needs_background": "light"
     },
     "output_type": "display_data"
    }
   ],
   "source": [
    "#barplot1 - Megan vs Messi based on physical stats\n",
    "barWidth = 0.25\n",
    "bars1=pivot_info_df['Megan']\n",
    "bars2=pivot_info_df['Messi']\n",
    "\n",
    "r1 = np.arange(len(bars1))\n",
    "r2 = [x + barWidth for x in r1]\n",
    "\n",
    "\n",
    "plt.bar(r1, bars1, color='pink', width=barWidth, edgecolor='white', label='Megan')\n",
    "plt.bar(r2, bars2, color='blue', width=barWidth, edgecolor='white', label='Messi')\n",
    "\n",
    "plt.xlabel('Megan Vs Messi', fontweight='bold')\n",
    "plt.xticks([r + barWidth for r in range(len(bars1))], ['Age','Ht in cm','Int_Capt','Int_Goals'])\n",
    "\n",
    "plt.legend()\n",
    "plt.savefig('Megan_Messi.png')\n",
    "plt.show()\n"
   ]
  },
  {
   "cell_type": "code",
   "execution_count": 38,
   "metadata": {},
   "outputs": [
    {
     "data": {
      "image/png": "[encoded data removed]",
      "text/plain": [
       "<Figure size 432x288 with 1 Axes>"
      ]
     },
     "metadata": {
      "needs_background": "light"
     },
     "output_type": "display_data"
    }
   ],
   "source": [
    "#barplot - Megan vs Messi achievements\n",
    "barWidth = 0.25\n",
    "bars1=pivot_stat_df['Megan']\n",
    "bars2=pivot_stat_df['Messi']\n",
    "\n",
    "r1 = np.arange(len(bars1))\n",
    "r2 = [x + barWidth for x in r1]\n",
    "\n",
    "\n",
    "plt.bar(r1, bars1, color='pink', width=barWidth, edgecolor='white', label='Megan')\n",
    "plt.bar(r2, bars2, color='blue', width=barWidth, edgecolor='white', label='Messi')\n",
    "\n",
    "plt.title('Megan Vs Messi', fontweight='bold')\n",
    "plt.xticks([r + barWidth for r in range(len(bars1))], ['Assists','Corners','Fouls', 'Goals', 'Matches_Played', 'Penalties_Scored', 'Shots_Blocked'], rotation='vertical')\n",
    "\n",
    "plt.legend()\n",
    "plt.savefig('Megan_Messi2.png')\n",
    "plt.show()\n"
   ]
  },
  {
   "cell_type": "code",
   "execution_count": 39,
   "metadata": {},
   "outputs": [
    {
     "data": {
      "image/png": "[encoded data removed]",
      "text/plain": [
       "<Figure size 432x288 with 1 Axes>"
      ]
     },
     "metadata": {
      "needs_background": "light"
     },
     "output_type": "display_data"
    }
   ],
   "source": [
    "#barplot 3 - Megan vs Messi game \n",
    "barWidth = 0.25\n",
    "bars1=pivot_stat2['Megan']\n",
    "bars2=pivot_stat2['Messi']\n",
    "\n",
    "r1 = np.arange(len(bars1))\n",
    "r2 = [x + barWidth for x in r1]\n",
    "\n",
    "plt.bar(r1, bars1, color='pink', width=barWidth, edgecolor='white', label='Megan')\n",
    "plt.bar(r2, bars2, color='blue', width=barWidth, edgecolor='white', label='Messi')\n",
    "\n",
    "plt.title('Megan Vs Messi', fontweight='bold')\n",
    "plt.xticks([r + barWidth for r in range(len(bars1))], ['Minutes_Played', 'Distance_Coveredkm'])\n",
    "plt.legend()\n",
    "plt.savefig('Megan_Messi3.png')\n",
    "plt.show()"
   ]
  },
  {
   "cell_type": "code",
   "execution_count": 40,
   "metadata": {},
   "outputs": [
    {
     "data": {
      "image/png": "[encoded data removed]",
      "text/plain": [
       "<Figure size 432x288 with 1 Axes>"
      ]
     },
     "metadata": {
      "needs_background": "light"
     },
     "output_type": "display_data"
    }
   ],
   "source": [
    "#barplot 3\n",
    "barWidth = 0.25\n",
    "bars1=pivot_stat2['Megan']\n",
    "bars2=pivot_stat2['Messi']\n",
    "\n",
    "r1 = np.arange(len(bars1))\n",
    "r2 = [x + barWidth for x in r1]\n",
    "\n",
    "\n",
    "plt.bar(r1, bars1, color='pink', width=barWidth, edgecolor='white', label='Megan')\n",
    "plt.bar(r2, bars2, color='blue', width=barWidth, edgecolor='white', label='Messi')\n",
    "\n",
    "plt.title('Megan Vs Messi', fontweight='bold')\n",
    "plt.xticks([r + barWidth for r in range(len(bars1))], ['Minutes_Played', 'Distance_Coveredkm'])\n",
    "\n",
    "plt.legend()\n",
    "plt.savefig('Megan_Messi3.png')\n",
    "plt.show()\n"
   ]
  },
  {
   "cell_type": "code",
   "execution_count": 41,
   "metadata": {},
   "outputs": [],
   "source": [
    "# Creating a team of top 11 players\n",
    "\n",
    "top11_overall=sorted_overall.iloc[0:11]"
   ]
  },
  {
   "cell_type": "code",
   "execution_count": 43,
   "metadata": {},
   "outputs": [],
   "source": [
    "#taking top 11 players based on overall ranking and creating a list of 11 skills of those players\n",
    "skill_df=top11_overall.loc[ :,'Crossing':'SprintSpeed']\n",
    "skill_df['Name']=top11_overall.loc[ :, 'Name']\n",
    "col_name=skill_df.columns\n",
    "crossing=list(skill_df.Crossing.values)\n",
    "finishing=list(skill_df.Finishing.values)\n",
    "heading_accuracy=list(skill_df.HeadingAccuracy.values)\n",
    "shortpassing=list(skill_df.ShortPassing.values)\n",
    "volleys=list(skill_df.Volleys.values)\n",
    "curve=list(skill_df.Curve.values)\n",
    "fkaccuracy=list(skill_df.FKAccuracy.values)\n",
    "longpassing=list(skill_df.LongPassing.values)\n",
    "ballcontrol=list(skill_df.BallControl.values)\n",
    "acceleration=list(skill_df.Acceleration.values)\n",
    "sprintspeed=list(skill_df.SprintSpeed.values)"
   ]
  },
  {
   "cell_type": "code",
   "execution_count": 44,
   "metadata": {},
   "outputs": [
    {
     "data": {
      "text/plain": [
       "['L. Messi',\n",
       " 'Cristiano Ronaldo',\n",
       " 'Neymar Jr',\n",
       " 'De Gea',\n",
       " 'K. De Bruyne',\n",
       " 'E. Hazard',\n",
       " 'L. Modrić',\n",
       " 'L. Suárez',\n",
       " 'Sergio Ramos',\n",
       " 'D. Godín',\n",
       " 'David Silva']"
      ]
     },
     "execution_count": 44,
     "metadata": {},
     "output_type": "execute_result"
    }
   ],
   "source": [
    "player_name=list(skill_df.Name.values)\n",
    "player_name"
   ]
  },
  {
   "cell_type": "code",
   "execution_count": 45,
   "metadata": {},
   "outputs": [
    {
     "data": {
      "text/plain": [
       "array([[84., 84., 79., 17., 93., 81., 86., 77., 66., 55., 84.],\n",
       "       [95., 94., 87., 13., 82., 84., 72., 93., 60., 42., 76.],\n",
       "       [70., 89., 62., 21., 55., 61., 55., 77., 91., 92., 54.],\n",
       "       [90., 81., 84., 50., 92., 89., 93., 82., 78., 79., 93.],\n",
       "       [86., 87., 84., 13., 82., 80., 76., 88., 66., 47., 82.],\n",
       "       [93., 81., 88., 21., 85., 83., 85., 86., 74., 49., 82.],\n",
       "       [94., 76., 87., 19., 83., 79., 78., 84., 72., 51., 77.],\n",
       "       [87., 77., 78., 51., 91., 83., 88., 64., 77., 70., 87.],\n",
       "       [96., 94., 95., 42., 91., 94., 93., 90., 84., 76., 94.],\n",
       "       [91., 89., 94., 57., 78., 94., 80., 86., 76., 68., 70.],\n",
       "       [86., 91., 90., 58., 76., 88., 72., 75., 75., 68., 64.]])"
      ]
     },
     "execution_count": 45,
     "metadata": {},
     "output_type": "execute_result"
    }
   ],
   "source": [
    "skill_stats=np.array([crossing,finishing,heading_accuracy, shortpassing,volleys, curve,fkaccuracy,longpassing,ballcontrol,acceleration,sprintspeed])            \n",
    "skill_stats"
   ]
  },
  {
   "cell_type": "code",
   "execution_count": 96,
   "metadata": {},
   "outputs": [
    {
     "data": {
      "image/png": "[encoded data removed]",
      "text/plain": [
       "<Figure size 432x288 with 1 Axes>"
      ]
     },
     "metadata": {
      "needs_background": "light"
     },
     "output_type": "display_data"
    }
   ],
   "source": [
    "#heat map\n",
    "# fig, ax = plt.subplots(figsize=(10,10))\n",
    "# sns.heatmap(skill_stats, annot=True, linewidths=.5)\n",
    "\n",
    "fig, ax = plt.subplots()\n",
    "im = ax.imshow(skill_stats)\n",
    "\n",
    "# We want to show all ticks...\n",
    "ax.set_xticks(np.arange(len(player_name)))\n",
    "ax.set_yticks(np.arange(len(skill_stats)))\n",
    "# ... and label them with the respective list entries\n",
    "ax.set_xticklabels(player_name)\n",
    "ax.set_yticklabels(col_name)\n",
    "\n",
    "# Rotate the tick labels and set their alignment.\n",
    "plt.setp(ax.get_xticklabels(), rotation=45, ha=\"right\",\n",
    "         rotation_mode=\"anchor\")\n",
    "\n",
    "# Loop over data dimensions and create text annotations.\n",
    "for i in range(len(skill_stats)):\n",
    "    for j in range(len(player_name)):\n",
    "        text = ax.text(j, i, skill_stats[i, j],\n",
    "                       ha=\"center\", va=\"center\", color=\"w\")\n",
    "\n",
    "ax.set_title(\"Players Skills\")\n",
    "fig.tight_layout()\n",
    "plt.savefig('skills.png')\n",
    "plt.show()\n"
   ]
  },
  {
   "cell_type": "markdown",
   "metadata": {},
   "source": [
    "# Reza"
   ]
  },
  {
   "cell_type": "code",
   "execution_count": 66,
   "metadata": {},
   "outputs": [],
   "source": [
    "leftright_pd = data_df[[\"Preferred Foot\",\"Dribbling\", \"BallControl\"]]\n",
    "left_pd = leftright_pd.loc[leftright_pd[\"Preferred Foot\"]== \"Left\", :]\n",
    "right_pd = leftright_pd.loc[leftright_pd[\"Preferred Foot\"]==\"Right\", :]"
   ]
  },
  {
   "cell_type": "code",
   "execution_count": 67,
   "metadata": {},
   "outputs": [
    {
     "data": {
      "image/png": "[encoded data removed]",
      "text/plain": [
       "<Figure size 432x288 with 1 Axes>"
      ]
     },
     "metadata": {
      "needs_background": "light"
     },
     "output_type": "display_data"
    },
    {
     "data": {
      "text/plain": [
       "<Figure size 432x288 with 0 Axes>"
      ]
     },
     "metadata": {},
     "output_type": "display_data"
    }
   ],
   "source": [
    "# Scatter plot shows the direct relation between dribbling and Ball Control - Left foot players\n",
    "plt.scatter(left_pd[\"BallControl\"], left_pd[\"Dribbling\"], marker=\"o\" )\n",
    "plt.title(\"Preferred Foot=Left\")\n",
    "plt.xlabel(\"BallControl\")\n",
    "plt.ylabel(\"Dribbling\")\n",
    "# Prints the scatter plot to the screen\n",
    "plt.show()\n",
    "plt.savefig(\"Left_foot.png\")"
   ]
  },
  {
   "cell_type": "code",
   "execution_count": 69,
   "metadata": {},
   "outputs": [
    {
     "data": {
      "image/png": "[encoded data removed]",
      "text/plain": [
       "<Figure size 432x288 with 1 Axes>"
      ]
     },
     "metadata": {
      "needs_background": "light"
     },
     "output_type": "display_data"
    },
    {
     "data": {
      "text/plain": [
       "<Figure size 432x288 with 0 Axes>"
      ]
     },
     "metadata": {},
     "output_type": "display_data"
    }
   ],
   "source": [
    "# Scatter plot shows the direct relation between dribbling and Ball Control - Right foot players\n",
    "plt.scatter(right_pd[\"BallControl\"], right_pd[\"Dribbling\"], marker=\"o\")\n",
    "plt.title(\"Preferred Foot=Right\")\n",
    "plt.xlabel(\"BallControl\")\n",
    "plt.ylabel(\"Dribbling\")\n",
    "# Prints the scatter plot to the screen\n",
    "plt.show()\n",
    "plt.savefig(\"Right_foot.png\")"
   ]
  },
  {
   "cell_type": "code",
   "execution_count": null,
   "metadata": {},
   "outputs": [],
   "source": []
  }
 ],
 "metadata": {
  "kernelspec": {
   "display_name": "Python 3",
   "language": "python",
   "name": "python3"
  },
  "language_info": {
   "codemirror_mode": {
    "name": "ipython",
    "version": 3
   },
   "file_extension": ".py",
   "mimetype": "text/x-python",
   "name": "python",
   "nbconvert_exporter": "python",
   "pygments_lexer": "ipython3",
   "version": "3.7.3"
  }
 },
 "nbformat": 4,
 "nbformat_minor": 4
}
